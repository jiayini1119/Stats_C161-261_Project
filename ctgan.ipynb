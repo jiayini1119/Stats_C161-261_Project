{
 "cells": [
  {
   "cell_type": "code",
   "execution_count": 5,
   "metadata": {},
   "outputs": [],
   "source": [
    "### Run create_dataset.ipynb first. Ensure you have the train_df saved in {train_df_path}\n",
    "train_df_path = \"/Users/nijiayi/Stats_C161-261_Project/train_data_after_feature_selection.csv\"\n",
    "test_df_path = \"/Users/nijiayi/Stats_C161-261_Project/test_data_after_feature_selection.csv\""
   ]
  },
  {
   "cell_type": "code",
   "execution_count": 6,
   "metadata": {},
   "outputs": [
    {
     "name": "stderr",
     "output_type": "stream",
     "text": [
      "4it [00:11,  2.87s/it]\n"
     ]
    }
   ],
   "source": [
    "from load_dataset import separate_labels\n",
    "\n",
    "df_label_0, df_label_1 = separate_labels(file_path=train_df_path) # Enter the train_df_path\n",
    "# Remember we should generate label 1 data\n",
    "# Make sure that df_label_0, df_label_1 are consistent\n",
    "real_data = df_label_1"
   ]
  },
  {
   "cell_type": "code",
   "execution_count": 3,
   "metadata": {},
   "outputs": [
    {
     "data": {
      "text/plain": [
       "((3766407, 23), (47567, 23))"
      ]
     },
     "execution_count": 3,
     "metadata": {},
     "output_type": "execute_result"
    }
   ],
   "source": [
    "df_label_0.shape, df_label_1.shape"
   ]
  },
  {
   "cell_type": "markdown",
   "metadata": {},
   "source": [
    "### Train CTGAN"
   ]
  },
  {
   "cell_type": "code",
   "execution_count": 7,
   "metadata": {},
   "outputs": [
    {
     "data": {
      "text/plain": [
       "{\n",
       "    \"columns\": {\n",
       "        \"city\": {\n",
       "            \"sdtype\": \"categorical\"\n",
       "        },\n",
       "        \"series_dev\": {\n",
       "            \"sdtype\": \"numerical\"\n",
       "        },\n",
       "        \"emui_dev\": {\n",
       "            \"sdtype\": \"numerical\"\n",
       "        },\n",
       "        \"device_name\": {\n",
       "            \"sdtype\": \"numerical\"\n",
       "        },\n",
       "        \"device_size\": {\n",
       "            \"sdtype\": \"numerical\"\n",
       "        },\n",
       "        \"net_type\": {\n",
       "            \"sdtype\": \"categorical\"\n",
       "        },\n",
       "        \"creat_type_cd\": {\n",
       "            \"sdtype\": \"categorical\"\n",
       "        },\n",
       "        \"slot_id\": {\n",
       "            \"sdtype\": \"numerical\"\n",
       "        },\n",
       "        \"spread_app_id\": {\n",
       "            \"sdtype\": \"numerical\"\n",
       "        },\n",
       "        \"app_second_class\": {\n",
       "            \"sdtype\": \"numerical\"\n",
       "        },\n",
       "        \"u_refreshTimes\": {\n",
       "            \"sdtype\": \"categorical\"\n",
       "        },\n",
       "        \"u_feedLifeCycle\": {\n",
       "            \"sdtype\": \"categorical\"\n",
       "        },\n",
       "        \"user_id_count\": {\n",
       "            \"sdtype\": \"numerical\"\n",
       "        },\n",
       "        \"task_id_count\": {\n",
       "            \"sdtype\": \"numerical\"\n",
       "        },\n",
       "        \"adv_id_count\": {\n",
       "            \"sdtype\": \"numerical\"\n",
       "        },\n",
       "        \"user_id_task_id_nunique\": {\n",
       "            \"sdtype\": \"numerical\"\n",
       "        },\n",
       "        \"user_id_adv_prim_id_nunique\": {\n",
       "            \"sdtype\": \"numerical\"\n",
       "        },\n",
       "        \"user_id_slot_id_nunique\": {\n",
       "            \"sdtype\": \"numerical\"\n",
       "        },\n",
       "        \"user_id_spread_app_id_nunique\": {\n",
       "            \"sdtype\": \"numerical\"\n",
       "        },\n",
       "        \"age_task_id_nunique\": {\n",
       "            \"sdtype\": \"categorical\"\n",
       "        },\n",
       "        \"age_adv_id_nunique\": {\n",
       "            \"sdtype\": \"categorical\"\n",
       "        },\n",
       "        \"gender_task_id_nunique\": {\n",
       "            \"sdtype\": \"categorical\"\n",
       "        },\n",
       "        \"label\": {\n",
       "            \"sdtype\": \"categorical\"\n",
       "        }\n",
       "    },\n",
       "    \"METADATA_SPEC_VERSION\": \"SINGLE_TABLE_V1\"\n",
       "}"
      ]
     },
     "execution_count": 7,
     "metadata": {},
     "output_type": "execute_result"
    }
   ],
   "source": [
    "from sdv.metadata import SingleTableMetadata\n",
    "\n",
    "metadata = SingleTableMetadata()\n",
    "metadata.detect_from_dataframe(df_label_1)\n",
    "for column_name, properties in metadata.columns.items():\n",
    "    if properties[\"sdtype\"] not in [\"numerical\", \"categorical\"]:\n",
    "        properties[\"sdtype\"] = \"categorical\"\n",
    "        properties.pop(\"pii\", None)\n",
    "metadata"
   ]
  },
  {
   "cell_type": "code",
   "execution_count": null,
   "metadata": {},
   "outputs": [],
   "source": [
    "from sdv.single_table import CTGANSynthesizer\n",
    "synthesizer = CTGANSynthesizer(metadata, verbose=True)\n",
    "synthesizer.fit(df_label_1)"
   ]
  },
  {
   "cell_type": "code",
   "execution_count": null,
   "metadata": {},
   "outputs": [],
   "source": [
    "synthesizer.save('ctgan_synthesizer.pkl')"
   ]
  },
  {
   "cell_type": "code",
   "execution_count": null,
   "metadata": {},
   "outputs": [],
   "source": [
    "# If have the synthesizer saved just load it\n",
    "# import joblib\n",
    "# synthesizer = joblib.load(\"tvae_synthesizer.pkl\")"
   ]
  },
  {
   "cell_type": "code",
   "execution_count": null,
   "metadata": {},
   "outputs": [],
   "source": [
    "# How many synthetic data we need?\n",
    "num_generated_data_needed = df_label_0.shape[0] - df_label_1.shape[0]\n",
    "synthetic_data = synthesizer.sample(num_generated_data_needed)\n",
    "synthetic_data.to_csv(\"ctgan_synthesized_data.csv\")"
   ]
  },
  {
   "cell_type": "markdown",
   "metadata": {},
   "source": [
    "### Evaluation"
   ]
  },
  {
   "cell_type": "code",
   "execution_count": null,
   "metadata": {},
   "outputs": [],
   "source": []
  }
 ],
 "metadata": {
  "kernelspec": {
   "display_name": "base",
   "language": "python",
   "name": "python3"
  },
  "language_info": {
   "codemirror_mode": {
    "name": "ipython",
    "version": 3
   },
   "file_extension": ".py",
   "mimetype": "text/x-python",
   "name": "python",
   "nbconvert_exporter": "python",
   "pygments_lexer": "ipython3",
   "version": "3.10.11"
  }
 },
 "nbformat": 4,
 "nbformat_minor": 2
}
