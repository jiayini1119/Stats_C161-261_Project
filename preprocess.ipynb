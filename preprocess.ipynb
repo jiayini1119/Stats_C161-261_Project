{
  "cells": [
    {
      "cell_type": "code",
      "execution_count": null,
      "metadata": {
        "colab": {
          "base_uri": "https://localhost:8080/"
        },
        "id": "IPMctWTAgxsm",
        "outputId": "48a6d4db-09cc-4524-f7ee-98537a5a07f3"
      },
      "outputs": [
        {
          "name": "stdout",
          "output_type": "stream",
          "text": [
            "Path to dataset files: /root/.cache/kagglehub/datasets/xiaojiu1414/digix-global-ai-challenge/versions/1\n"
          ]
        }
      ],
      "source": [
        "import kagglehub\n",
        "\n",
        "path = kagglehub.dataset_download(\"xiaojiu1414/digix-global-ai-challenge\")\n",
        "\n",
        "print(\"Path to dataset files:\", path)"
      ]
    },
    {
      "cell_type": "code",
      "execution_count": null,
      "metadata": {
        "id": "23Dww-RWl49Q"
      },
      "outputs": [],
      "source": [
        "import pandas as pd\n",
        "import numpy as np\n",
        "import tensorflow as tf\n",
        "from sklearn.metrics import roc_auc_score\n",
        "from sklearn.model_selection import train_test_split\n",
        "from sklearn.preprocessing import MinMaxScaler, LabelEncoder\n",
        "from tqdm import tqdm\n",
        "import time"
      ]
    },
    {
      "cell_type": "code",
      "execution_count": null,
      "metadata": {
        "colab": {
          "base_uri": "https://localhost:8080/"
        },
        "id": "yLGc0U-QoXT3",
        "outputId": "4a19580b-9c10-4783-ca79-057a3f5289b3"
      },
      "outputs": [
        {
          "name": "stderr",
          "output_type": "stream",
          "text": [
            "1it [00:04,  4.67s/it]/usr/local/lib/python3.10/dist-packages/tqdm/std.py:1181: DtypeWarning: Columns (28,29,30) have mixed types. Specify dtype option on import or set low_memory=False.\n",
            "  for obj in iterable:\n",
            "2it [00:10,  5.21s/it]/usr/local/lib/python3.10/dist-packages/tqdm/std.py:1181: DtypeWarning: Columns (28,29,30) have mixed types. Specify dtype option on import or set low_memory=False.\n",
            "  for obj in iterable:\n",
            "3it [00:14,  4.97s/it]/usr/local/lib/python3.10/dist-packages/tqdm/std.py:1181: DtypeWarning: Columns (28,29,30) have mixed types. Specify dtype option on import or set low_memory=False.\n",
            "  for obj in iterable:\n",
            "4it [00:19,  4.98s/it]/usr/local/lib/python3.10/dist-packages/tqdm/std.py:1181: DtypeWarning: Columns (29,30) have mixed types. Specify dtype option on import or set low_memory=False.\n",
            "  for obj in iterable:\n",
            "5it [00:25,  5.18s/it]/usr/local/lib/python3.10/dist-packages/tqdm/std.py:1181: DtypeWarning: Columns (28,29,30) have mixed types. Specify dtype option on import or set low_memory=False.\n",
            "  for obj in iterable:\n",
            "7it [00:36,  5.46s/it]/usr/local/lib/python3.10/dist-packages/tqdm/std.py:1181: DtypeWarning: Columns (28,29,30) have mixed types. Specify dtype option on import or set low_memory=False.\n",
            "  for obj in iterable:\n",
            "8it [00:40,  5.03s/it]\n"
          ]
        }
      ],
      "source": [
        "chunkSize = 1000000\n",
        "chunks = []\n",
        "index = 0\n",
        "num_of_chunk = 0\n",
        "train_df = pd.DataFrame()\n",
        "\n",
        "\n",
        "for chunk in tqdm(pd.read_csv('/root/.cache/kagglehub/datasets/xiaojiu1414/digix-global-ai-challenge/versions/1/train/train_data_ads.csv', iterator=True, sep=',', chunksize=chunkSize)):\n",
        "    num_of_chunk += 1\n",
        "    chunk.reset_index(drop=True, inplace=True)\n",
        "    sampled_chunk = chunk.sample(frac=0.5, replace=False, random_state=123)\n",
        "    train_df = pd.concat([train_df, sampled_chunk], ignore_index=True)"
      ]
    },
    {
      "cell_type": "markdown",
      "metadata": {
        "id": "XW5zdUrm2hEt"
      },
      "source": []
    },
    {
      "cell_type": "code",
      "execution_count": null,
      "metadata": {
        "colab": {
          "base_uri": "https://localhost:8080/"
        },
        "id": "9KAwBDTx1L1I",
        "outputId": "b6193bd1-989c-42ca-dc3d-0c7d93370823"
      },
      "outputs": [
        {
          "data": {
            "text/plain": [
              "(3837758, 35)"
            ]
          },
          "execution_count": 5,
          "metadata": {},
          "output_type": "execute_result"
        }
      ],
      "source": [
        "train_df.shape"
      ]
    },
    {
      "cell_type": "code",
      "execution_count": null,
      "metadata": {
        "colab": {
          "base_uri": "https://localhost:8080/"
        },
        "id": "nNRhe9BR3m2G",
        "outputId": "0f0c661f-ba35-4f9e-ae98-046aa84e4db0"
      },
      "outputs": [
        {
          "name": "stdout",
          "output_type": "stream",
          "text": [
            "<class 'pandas.core.frame.DataFrame'>\n",
            "RangeIndex: 3837758 entries, 0 to 3837757\n",
            "Data columns (total 35 columns):\n",
            " #   Column                Dtype  \n",
            "---  ------                -----  \n",
            " 0   log_id                int64  \n",
            " 1   label                 int64  \n",
            " 2   user_id               int64  \n",
            " 3   age                   int64  \n",
            " 4   gender                int64  \n",
            " 5   residence             int64  \n",
            " 6   city                  int64  \n",
            " 7   city_rank             int64  \n",
            " 8   series_dev            int64  \n",
            " 9   series_group          int64  \n",
            " 10  emui_dev              int64  \n",
            " 11  device_name           int64  \n",
            " 12  device_size           int64  \n",
            " 13  net_type              int64  \n",
            " 14  task_id               int64  \n",
            " 15  adv_id                int64  \n",
            " 16  creat_type_cd         int64  \n",
            " 17  adv_prim_id           int64  \n",
            " 18  inter_type_cd         int64  \n",
            " 19  slot_id               int64  \n",
            " 20  site_id               int64  \n",
            " 21  spread_app_id         int64  \n",
            " 22  hispace_app_tags      int64  \n",
            " 23  app_second_class      int64  \n",
            " 24  app_score             float64\n",
            " 25  ad_click_list_v001    object \n",
            " 26  ad_click_list_v002    object \n",
            " 27  ad_click_list_v003    object \n",
            " 28  ad_close_list_v001    object \n",
            " 29  ad_close_list_v002    object \n",
            " 30  ad_close_list_v003    object \n",
            " 31  pt_d                  int64  \n",
            " 32  u_newsCatInterestsST  object \n",
            " 33  u_refreshTimes        int64  \n",
            " 34  u_feedLifeCycle       int64  \n",
            "dtypes: float64(1), int64(27), object(7)\n",
            "memory usage: 1.0+ GB\n"
          ]
        }
      ],
      "source": [
        "train_df.info()"
      ]
    },
    {
      "cell_type": "code",
      "execution_count": null,
      "metadata": {
        "colab": {
          "base_uri": "https://localhost:8080/"
        },
        "id": "nxYINu9r4azV",
        "outputId": "1de6cd52-d2ac-4f21-9453-ca1c8419e54c"
      },
      "outputs": [
        {
          "name": "stdout",
          "output_type": "stream",
          "text": [
            " the support of ad_click_list_v001 is ['23769^14028^33764^22798^34197' '18536^16502^29163^30795^12889' '33764'\n",
            " ... '22763^32213^32317^20150' '31798^16066^35422^22548' '29902^10914']\n",
            " the support of ad_click_list_v002 is ['1220^1454^1690^1169^1356' '2009^1573^1633^1359^1520' '1690' ...\n",
            " '1109^1535' '1026^1968' '2009^1462']\n",
            " the support of ad_click_list_v003 is ['280^106^321^309^350' '346^350^162^343^310' '293' ...\n",
            " '372^301^280^219^344' '162^280^306^198' '306^153^240']\n",
            " the support of ad_close_list_v001 is ['24107' '11711^15603^21493^29568^29226' '17929' ...\n",
            " '20005^13874^11083^10583' '11240^22589' '26515^35353^21766^10519^14483']\n",
            " the support of ad_close_list_v002 is ['1218' '1795^1535^1036^1518' '1856' ... '1743^1090^1076' '1714^1542'\n",
            " '1597^1289^1690^1669^1036']\n",
            " the support of ad_close_list_v003 is ['173' '168^312^114' '162' ... '106^206^305^250^251' '114^162^344'\n",
            " '162^121^344^312^298']\n"
          ]
        }
      ],
      "source": [
        "print(f\" the support of ad_click_list_v001 is {train_df['ad_click_list_v001'].unique()}\")\n",
        "print(f\" the support of ad_click_list_v002 is {train_df['ad_click_list_v002'].unique()}\")\n",
        "print(f\" the support of ad_click_list_v003 is {train_df['ad_click_list_v003'].unique()}\")\n",
        "print(f\" the support of ad_close_list_v001 is {train_df['ad_close_list_v001'].unique()}\")\n",
        "print(f\" the support of ad_close_list_v002 is {train_df['ad_close_list_v002'].unique()}\")\n",
        "print(f\" the support of ad_close_list_v003 is {train_df['ad_close_list_v003'].unique()}\")"
      ]
    },
    {
      "cell_type": "code",
      "execution_count": null,
      "metadata": {
        "id": "V-aiy0jk8AJ9"
      },
      "outputs": [],
      "source": [
        "train_df.drop(['ad_click_list_v001','ad_click_list_v002', 'ad_click_list_v003', 'ad_close_list_v001', 'ad_close_list_v002','ad_close_list_v003'], axis =1,inplace = True)"
      ]
    },
    {
      "cell_type": "code",
      "execution_count": null,
      "metadata": {
        "colab": {
          "base_uri": "https://localhost:8080/"
        },
        "id": "k20ePOKq8-aY",
        "outputId": "e8fd4dc4-c2bb-4a23-949d-1b87bc76e759"
      },
      "outputs": [
        {
          "data": {
            "text/plain": [
              "(3837758, 29)"
            ]
          },
          "execution_count": 8,
          "metadata": {},
          "output_type": "execute_result"
        }
      ],
      "source": [
        "train_df.shape"
      ]
    },
    {
      "cell_type": "code",
      "execution_count": null,
      "metadata": {
        "id": "g3nhc3qU9dR4"
      },
      "outputs": [],
      "source": [
        "def reduce_mem(df):\n",
        "    starttime = time.time()\n",
        "    numerics = ['int16', 'int32', 'int64', 'float16', 'float32', 'float64']\n",
        "    start_mem = df.memory_usage().sum() / 1024**2\n",
        "    for col in df.columns:\n",
        "        col_type = df[col].dtypes\n",
        "        if col_type in numerics:\n",
        "            c_min = df[col].min()\n",
        "            c_max = df[col].max()\n",
        "            if pd.isnull(c_min) or pd.isnull(c_max):\n",
        "                continue\n",
        "            if str(col_type)[:3] == 'int':\n",
        "                if c_min > np.iinfo(np.int8).min and c_max < np.iinfo(np.int8).max:\n",
        "                    df[col] = df[col].astype(np.int8)\n",
        "                elif c_min > np.iinfo(np.int16).min and c_max < np.iinfo(np.int16).max:\n",
        "                    df[col] = df[col].astype(np.int16)\n",
        "                elif c_min > np.iinfo(np.int32).min and c_max < np.iinfo(np.int32).max:\n",
        "                    df[col] = df[col].astype(np.int32)\n",
        "                elif c_min > np.iinfo(np.int64).min and c_max < np.iinfo(np.int64).max:\n",
        "                    df[col] = df[col].astype(np.int64)\n",
        "            else:\n",
        "                if c_min > np.finfo(np.float16).min and c_max < np.finfo(np.float16).max:\n",
        "                    df[col] = df[col].astype(np.float16)\n",
        "                elif c_min > np.finfo(np.float32).min and c_max < np.finfo(np.float32).max:\n",
        "                     df[col] = df[col].astype(np.float32)\n",
        "                else:\n",
        "                    df[col] = df[col].astype(np.float64)\n",
        "    end_mem = df.memory_usage().sum() / 1024**2\n",
        "    print('-- Mem. usage decreased to {:5.2f} Mb ({:.1f}% reduction),time spend:{:2.2f} min'.format(end_mem,\n",
        "                                                                                                           100*(start_mem-end_mem)/start_mem,\n",
        "                                                                                                           (time.time()-starttime)/60))\n",
        "    return df"
      ]
    },
    {
      "cell_type": "code",
      "execution_count": null,
      "metadata": {
        "colab": {
          "base_uri": "https://localhost:8080/"
        },
        "id": "vgVsvK4N-L7q",
        "outputId": "f042152b-af46-498c-e2a1-e14488dcc3c8"
      },
      "outputs": [
        {
          "name": "stdout",
          "output_type": "stream",
          "text": [
            "<class 'pandas.core.frame.DataFrame'>\n",
            "RangeIndex: 3837758 entries, 0 to 3837757\n",
            "Data columns (total 28 columns):\n",
            " #   Column            Dtype  \n",
            "---  ------            -----  \n",
            " 0   log_id            int64  \n",
            " 1   label             int64  \n",
            " 2   user_id           int64  \n",
            " 3   age               int64  \n",
            " 4   gender            int64  \n",
            " 5   residence         int64  \n",
            " 6   city              int64  \n",
            " 7   city_rank         int64  \n",
            " 8   series_dev        int64  \n",
            " 9   series_group      int64  \n",
            " 10  emui_dev          int64  \n",
            " 11  device_name       int64  \n",
            " 12  device_size       int64  \n",
            " 13  net_type          int64  \n",
            " 14  task_id           int64  \n",
            " 15  adv_id            int64  \n",
            " 16  creat_type_cd     int64  \n",
            " 17  adv_prim_id       int64  \n",
            " 18  inter_type_cd     int64  \n",
            " 19  slot_id           int64  \n",
            " 20  site_id           int64  \n",
            " 21  spread_app_id     int64  \n",
            " 22  hispace_app_tags  int64  \n",
            " 23  app_second_class  int64  \n",
            " 24  app_score         float64\n",
            " 25  pt_d              int64  \n",
            " 26  u_refreshTimes    int64  \n",
            " 27  u_feedLifeCycle   int64  \n",
            "dtypes: float64(1), int64(27)\n",
            "memory usage: 819.8 MB\n"
          ]
        }
      ],
      "source": [
        "train_df.drop(['u_newsCatInterestsST'], axis = 1, inplace = True)\n",
        "train_df.info()"
      ]
    },
    {
      "cell_type": "code",
      "execution_count": null,
      "metadata": {
        "id": "C23X_sTo6yEm"
      },
      "outputs": [],
      "source": [
        "import matplotlib.pyplot as plt\n",
        "\n",
        "cate_cols = ['log_id', 'user_id', 'age', 'gender', 'residence', 'city', 'series_dev', 'series_group', 'emui_dev', 'device_name',\n",
        "             'net_type', 'task_id', 'adv_id', 'creat_type_cd', 'adv_prim_id', 'inter_type_cd','slot_id', 'slot_id',\n",
        "             'spread_app_id', 'hispace_app_tags', 'app_second_class']\n",
        "\n",
        "fig, axes = plt.subplots(nrows=5, ncols=6, figsize=(18, 15))\n",
        "axes = axes.flatten()\n",
        "\n",
        "# Plot each categorical column\n",
        "for i, col in enumerate(cate_cols):\n",
        "    value_counts = train_df[col].value_counts()  # Count each unique value for the column\n",
        "    value_counts.plot(kind='bar', ax=axes[i])\n",
        "    axes[i].set_title(f'{col} (Unique: {value_counts.size})')  # Show number of unique values in the title\n",
        "    axes[i].set_xlabel('')\n",
        "    axes[i].set_ylabel('Count')\n",
        "    axes[i].tick_params(axis='x', rotation=45)\n",
        "\n",
        "for j in range(i + 1, len(axes)):\n",
        "    axes[j].axis('off')\n",
        "\n",
        "plt.tight_layout()\n",
        "plt.show()\n"
      ]
    },
    {
      "cell_type": "code",
      "execution_count": null,
      "metadata": {
        "colab": {
          "base_uri": "https://localhost:8080/"
        },
        "id": "oAXbJpl2PK9g",
        "outputId": "493d6b47-3551-48b0-f3bc-87f10adcf0c3"
      },
      "outputs": [
        {
          "name": "stderr",
          "output_type": "stream",
          "text": [
            "100%|██████████| 21/21 [00:02<00:00,  8.75it/s]\n"
          ]
        },
        {
          "name": "stdout",
          "output_type": "stream",
          "text": [
            "-- Mem. usage decreased to 461.16 Mb (67.2% reduction),time spend:0.01 min\n"
          ]
        }
      ],
      "source": [
        "# for each categorical column, we create a new column that holds the count of occurrences for each unique value, which is now a numeric column\n",
        "cate_cols = ['log_id', 'user_id', 'age', 'gender', 'residence', 'city', 'series_dev', 'series_group', 'emui_dev', 'device_name',\n",
        "             'net_type', 'task_id', 'adv_id', 'creat_type_cd', 'adv_prim_id', 'inter_type_cd','slot_id', 'slot_id',\n",
        "             'spread_app_id', 'hispace_app_tags', 'app_second_class']\n",
        "for f in tqdm(cate_cols):\n",
        "    train_df[f + '_count'] = train_df[f].map(train_df[f].value_counts())\n",
        "train_df = reduce_mem(train_df)"
      ]
    },
    {
      "cell_type": "code",
      "execution_count": null,
      "metadata": {
        "colab": {
          "base_uri": "https://localhost:8080/"
        },
        "id": "lxTHMmD69ksY",
        "outputId": "89386715-4b8f-44e8-9970-8ca0e35db698"
      },
      "outputs": [
        {
          "data": {
            "text/plain": [
              "Index(['log_id', 'label', 'user_id', 'age', 'gender', 'residence', 'city',\n",
              "       'city_rank', 'series_dev', 'series_group', 'emui_dev', 'device_name',\n",
              "       'device_size', 'net_type', 'task_id', 'adv_id', 'creat_type_cd',\n",
              "       'adv_prim_id', 'inter_type_cd', 'slot_id', 'site_id', 'spread_app_id',\n",
              "       'hispace_app_tags', 'app_second_class', 'app_score', 'pt_d',\n",
              "       'u_refreshTimes', 'u_feedLifeCycle', 'log_id_count', 'user_id_count',\n",
              "       'age_count', 'gender_count', 'residence_count', 'city_count',\n",
              "       'series_dev_count', 'series_group_count', 'emui_dev_count',\n",
              "       'device_name_count', 'net_type_count', 'task_id_count', 'adv_id_count',\n",
              "       'creat_type_cd_count', 'adv_prim_id_count', 'inter_type_cd_count',\n",
              "       'slot_id_count', 'spread_app_id_count', 'hispace_app_tags_count',\n",
              "       'app_second_class_count'],\n",
              "      dtype='object')"
            ]
          },
          "execution_count": 12,
          "metadata": {},
          "output_type": "execute_result"
        }
      ],
      "source": [
        "train_df.columns"
      ]
    },
    {
      "cell_type": "code",
      "execution_count": null,
      "metadata": {
        "colab": {
          "base_uri": "https://localhost:8080/"
        },
        "id": "hyf6MauiWzKV",
        "outputId": "fd4d9c8f-62fb-41f3-ad12-a3e8385235ca"
      },
      "outputs": [
        {
          "name": "stderr",
          "output_type": "stream",
          "text": [
            "\r  0%|          | 0/3 [00:00<?, ?it/s]<ipython-input-13-a91bec4145d6>:3: FutureWarning: Passing a dictionary to SeriesGroupBy.agg is deprecated and will raise in a future version of pandas. Pass a list of aggregations instead.\n",
            "  tmp = df.groupby(key, as_index=False)[target].agg({\n"
          ]
        },
        {
          "name": "stdout",
          "output_type": "stream",
          "text": [
            "**************************task_id**************************\n"
          ]
        },
        {
          "name": "stderr",
          "output_type": "stream",
          "text": [
            "<ipython-input-13-a91bec4145d6>:3: FutureWarning: Passing a dictionary to SeriesGroupBy.agg is deprecated and will raise in a future version of pandas. Pass a list of aggregations instead.\n",
            "  tmp = df.groupby(key, as_index=False)[target].agg({\n"
          ]
        },
        {
          "name": "stdout",
          "output_type": "stream",
          "text": [
            "**************************adv_id**************************\n"
          ]
        },
        {
          "name": "stderr",
          "output_type": "stream",
          "text": [
            "<ipython-input-13-a91bec4145d6>:3: FutureWarning: Passing a dictionary to SeriesGroupBy.agg is deprecated and will raise in a future version of pandas. Pass a list of aggregations instead.\n",
            "  tmp = df.groupby(key, as_index=False)[target].agg({\n"
          ]
        },
        {
          "name": "stdout",
          "output_type": "stream",
          "text": [
            "**************************adv_prim_id**************************\n"
          ]
        },
        {
          "name": "stderr",
          "output_type": "stream",
          "text": [
            "<ipython-input-13-a91bec4145d6>:3: FutureWarning: Passing a dictionary to SeriesGroupBy.agg is deprecated and will raise in a future version of pandas. Pass a list of aggregations instead.\n",
            "  tmp = df.groupby(key, as_index=False)[target].agg({\n"
          ]
        },
        {
          "name": "stdout",
          "output_type": "stream",
          "text": [
            "**************************slot_id**************************\n"
          ]
        },
        {
          "name": "stderr",
          "output_type": "stream",
          "text": [
            "<ipython-input-13-a91bec4145d6>:3: FutureWarning: Passing a dictionary to SeriesGroupBy.agg is deprecated and will raise in a future version of pandas. Pass a list of aggregations instead.\n",
            "  tmp = df.groupby(key, as_index=False)[target].agg({\n"
          ]
        },
        {
          "name": "stdout",
          "output_type": "stream",
          "text": [
            "**************************site_id**************************\n"
          ]
        },
        {
          "name": "stderr",
          "output_type": "stream",
          "text": [
            "<ipython-input-13-a91bec4145d6>:3: FutureWarning: Passing a dictionary to SeriesGroupBy.agg is deprecated and will raise in a future version of pandas. Pass a list of aggregations instead.\n",
            "  tmp = df.groupby(key, as_index=False)[target].agg({\n"
          ]
        },
        {
          "name": "stdout",
          "output_type": "stream",
          "text": [
            "**************************spread_app_id**************************\n"
          ]
        },
        {
          "name": "stderr",
          "output_type": "stream",
          "text": [
            "\r 33%|███▎      | 1/3 [00:07<00:14,  7.42s/it]<ipython-input-13-a91bec4145d6>:3: FutureWarning: Passing a dictionary to SeriesGroupBy.agg is deprecated and will raise in a future version of pandas. Pass a list of aggregations instead.\n",
            "  tmp = df.groupby(key, as_index=False)[target].agg({\n"
          ]
        },
        {
          "name": "stdout",
          "output_type": "stream",
          "text": [
            "**************************task_id**************************\n"
          ]
        },
        {
          "name": "stderr",
          "output_type": "stream",
          "text": [
            "<ipython-input-13-a91bec4145d6>:3: FutureWarning: Passing a dictionary to SeriesGroupBy.agg is deprecated and will raise in a future version of pandas. Pass a list of aggregations instead.\n",
            "  tmp = df.groupby(key, as_index=False)[target].agg({\n"
          ]
        },
        {
          "name": "stdout",
          "output_type": "stream",
          "text": [
            "**************************adv_id**************************\n"
          ]
        },
        {
          "name": "stderr",
          "output_type": "stream",
          "text": [
            "<ipython-input-13-a91bec4145d6>:3: FutureWarning: Passing a dictionary to SeriesGroupBy.agg is deprecated and will raise in a future version of pandas. Pass a list of aggregations instead.\n",
            "  tmp = df.groupby(key, as_index=False)[target].agg({\n"
          ]
        },
        {
          "name": "stdout",
          "output_type": "stream",
          "text": [
            "**************************adv_prim_id**************************\n"
          ]
        },
        {
          "name": "stderr",
          "output_type": "stream",
          "text": [
            "<ipython-input-13-a91bec4145d6>:3: FutureWarning: Passing a dictionary to SeriesGroupBy.agg is deprecated and will raise in a future version of pandas. Pass a list of aggregations instead.\n",
            "  tmp = df.groupby(key, as_index=False)[target].agg({\n"
          ]
        },
        {
          "name": "stdout",
          "output_type": "stream",
          "text": [
            "**************************slot_id**************************\n"
          ]
        },
        {
          "name": "stderr",
          "output_type": "stream",
          "text": [
            "<ipython-input-13-a91bec4145d6>:3: FutureWarning: Passing a dictionary to SeriesGroupBy.agg is deprecated and will raise in a future version of pandas. Pass a list of aggregations instead.\n",
            "  tmp = df.groupby(key, as_index=False)[target].agg({\n"
          ]
        },
        {
          "name": "stdout",
          "output_type": "stream",
          "text": [
            "**************************site_id**************************\n"
          ]
        },
        {
          "name": "stderr",
          "output_type": "stream",
          "text": [
            "<ipython-input-13-a91bec4145d6>:3: FutureWarning: Passing a dictionary to SeriesGroupBy.agg is deprecated and will raise in a future version of pandas. Pass a list of aggregations instead.\n",
            "  tmp = df.groupby(key, as_index=False)[target].agg({\n"
          ]
        },
        {
          "name": "stdout",
          "output_type": "stream",
          "text": [
            "**************************spread_app_id**************************\n"
          ]
        },
        {
          "name": "stderr",
          "output_type": "stream",
          "text": [
            "\r 67%|██████▋   | 2/3 [00:12<00:06,  6.06s/it]<ipython-input-13-a91bec4145d6>:3: FutureWarning: Passing a dictionary to SeriesGroupBy.agg is deprecated and will raise in a future version of pandas. Pass a list of aggregations instead.\n",
            "  tmp = df.groupby(key, as_index=False)[target].agg({\n"
          ]
        },
        {
          "name": "stdout",
          "output_type": "stream",
          "text": [
            "**************************task_id**************************\n"
          ]
        },
        {
          "name": "stderr",
          "output_type": "stream",
          "text": [
            "<ipython-input-13-a91bec4145d6>:3: FutureWarning: Passing a dictionary to SeriesGroupBy.agg is deprecated and will raise in a future version of pandas. Pass a list of aggregations instead.\n",
            "  tmp = df.groupby(key, as_index=False)[target].agg({\n"
          ]
        },
        {
          "name": "stdout",
          "output_type": "stream",
          "text": [
            "**************************adv_id**************************\n"
          ]
        },
        {
          "name": "stderr",
          "output_type": "stream",
          "text": [
            "<ipython-input-13-a91bec4145d6>:3: FutureWarning: Passing a dictionary to SeriesGroupBy.agg is deprecated and will raise in a future version of pandas. Pass a list of aggregations instead.\n",
            "  tmp = df.groupby(key, as_index=False)[target].agg({\n"
          ]
        },
        {
          "name": "stdout",
          "output_type": "stream",
          "text": [
            "**************************adv_prim_id**************************\n"
          ]
        },
        {
          "name": "stderr",
          "output_type": "stream",
          "text": [
            "<ipython-input-13-a91bec4145d6>:3: FutureWarning: Passing a dictionary to SeriesGroupBy.agg is deprecated and will raise in a future version of pandas. Pass a list of aggregations instead.\n",
            "  tmp = df.groupby(key, as_index=False)[target].agg({\n"
          ]
        },
        {
          "name": "stdout",
          "output_type": "stream",
          "text": [
            "**************************slot_id**************************\n"
          ]
        },
        {
          "name": "stderr",
          "output_type": "stream",
          "text": [
            "<ipython-input-13-a91bec4145d6>:3: FutureWarning: Passing a dictionary to SeriesGroupBy.agg is deprecated and will raise in a future version of pandas. Pass a list of aggregations instead.\n",
            "  tmp = df.groupby(key, as_index=False)[target].agg({\n"
          ]
        },
        {
          "name": "stdout",
          "output_type": "stream",
          "text": [
            "**************************site_id**************************\n"
          ]
        },
        {
          "name": "stderr",
          "output_type": "stream",
          "text": [
            "<ipython-input-13-a91bec4145d6>:3: FutureWarning: Passing a dictionary to SeriesGroupBy.agg is deprecated and will raise in a future version of pandas. Pass a list of aggregations instead.\n",
            "  tmp = df.groupby(key, as_index=False)[target].agg({\n"
          ]
        },
        {
          "name": "stdout",
          "output_type": "stream",
          "text": [
            "**************************spread_app_id**************************\n"
          ]
        },
        {
          "name": "stderr",
          "output_type": "stream",
          "text": [
            "100%|██████████| 3/3 [00:20<00:00,  6.85s/it]\n"
          ]
        }
      ],
      "source": [
        "# Nunique encoding\n",
        "def group_fea(df,key,target):\n",
        "    tmp = df.groupby(key, as_index=False)[target].agg({\n",
        "        key+\"_\"+target + '_nunique': 'nunique',\n",
        "    }).reset_index()\n",
        "    del tmp['index']\n",
        "    print(\"**************************{}**************************\".format(target))\n",
        "    return tmp\n",
        "\n",
        "feature_key = ['user_id','age','gender']\n",
        "feature_target = ['task_id','adv_id','adv_prim_id','slot_id', 'site_id', 'spread_app_id']\n",
        "\n",
        "for key in tqdm(feature_key):\n",
        "    for target in feature_target:\n",
        "        tmp = group_fea(train_df,key,target)\n",
        "        train_df = train_df.merge(tmp,on=key,how='left')"
      ]
    },
    {
      "cell_type": "code",
      "execution_count": null,
      "metadata": {
        "colab": {
          "base_uri": "https://localhost:8080/"
        },
        "id": "58T0-R8gYDEY",
        "outputId": "93d8c608-ad66-48c5-c935-9228a7637da3"
      },
      "outputs": [
        {
          "data": {
            "text/plain": [
              "Index(['log_id', 'label', 'user_id', 'age', 'gender', 'residence', 'city',\n",
              "       'city_rank', 'series_dev', 'series_group', 'emui_dev', 'device_name',\n",
              "       'device_size', 'net_type', 'task_id', 'adv_id', 'creat_type_cd',\n",
              "       'adv_prim_id', 'inter_type_cd', 'slot_id', 'site_id', 'spread_app_id',\n",
              "       'hispace_app_tags', 'app_second_class', 'app_score', 'pt_d',\n",
              "       'u_refreshTimes', 'u_feedLifeCycle', 'log_id_count', 'user_id_count',\n",
              "       'age_count', 'gender_count', 'residence_count', 'city_count',\n",
              "       'series_dev_count', 'series_group_count', 'emui_dev_count',\n",
              "       'device_name_count', 'net_type_count', 'task_id_count', 'adv_id_count',\n",
              "       'creat_type_cd_count', 'adv_prim_id_count', 'inter_type_cd_count',\n",
              "       'slot_id_count', 'spread_app_id_count', 'hispace_app_tags_count',\n",
              "       'app_second_class_count', 'user_id_task_id_nunique',\n",
              "       'user_id_adv_id_nunique', 'user_id_adv_prim_id_nunique',\n",
              "       'user_id_slot_id_nunique', 'user_id_site_id_nunique',\n",
              "       'user_id_spread_app_id_nunique', 'age_task_id_nunique',\n",
              "       'age_adv_id_nunique', 'age_adv_prim_id_nunique', 'age_slot_id_nunique',\n",
              "       'age_site_id_nunique', 'age_spread_app_id_nunique',\n",
              "       'gender_task_id_nunique', 'gender_adv_id_nunique',\n",
              "       'gender_adv_prim_id_nunique', 'gender_slot_id_nunique',\n",
              "       'gender_site_id_nunique', 'gender_spread_app_id_nunique'],\n",
              "      dtype='object')"
            ]
          },
          "execution_count": 14,
          "metadata": {},
          "output_type": "execute_result"
        }
      ],
      "source": [
        "train_df.columns"
      ]
    },
    {
      "cell_type": "code",
      "execution_count": null,
      "metadata": {
        "colab": {
          "base_uri": "https://localhost:8080/"
        },
        "id": "fQe6g1s1UCRF",
        "outputId": "060120af-739e-4615-cb53-29c9394dbd17"
      },
      "outputs": [
        {
          "name": "stdout",
          "output_type": "stream",
          "text": [
            "['user_id_task_id_nunique', 'user_id_adv_id_nunique', 'user_id_adv_prim_id_nunique', 'user_id_slot_id_nunique', 'user_id_site_id_nunique', 'user_id_spread_app_id_nunique', 'age_task_id_nunique', 'age_adv_id_nunique', 'age_adv_prim_id_nunique', 'age_slot_id_nunique', 'age_site_id_nunique', 'age_spread_app_id_nunique', 'gender_task_id_nunique', 'gender_adv_id_nunique', 'gender_adv_prim_id_nunique', 'gender_slot_id_nunique', 'gender_site_id_nunique', 'gender_spread_app_id_nunique']\n"
          ]
        }
      ],
      "source": [
        "# store _nunique columns as a new group_list\n",
        "group_list = []\n",
        "for s in train_df.columns:\n",
        "    if '_nunique' in s:\n",
        "        group_list.append(s)\n",
        "print(group_list)"
      ]
    },
    {
      "cell_type": "code",
      "execution_count": null,
      "metadata": {
        "colab": {
          "base_uri": "https://localhost:8080/"
        },
        "id": "_0r3ud_pUln1",
        "outputId": "e098f4b3-bbac-453f-80fc-950c9e1e8272"
      },
      "outputs": [
        {
          "name": "stderr",
          "output_type": "stream",
          "text": [
            "\r  0%|          | 0/29 [00:00<?, ?it/s]<ipython-input-16-e05c806c0d6b>:12: FutureWarning: Passing a dictionary to SeriesGroupBy.agg is deprecated and will raise in a future version of pandas. Pass a list of aggregations instead.\n",
            "  enc_df = trn_x.groupby(f, as_index=False)['label'].agg({f + '_target_enc': 'mean'}) # calculate target encoding 针对每个feature key，计算在train中feature target的平均值，并将其作为encoded feature\n",
            "<ipython-input-16-e05c806c0d6b>:15: FutureWarning: Setting an item of incompatible dtype is deprecated and will raise an error in a future version of pandas. Value '[0.02367808 0.01261468 0.00766078 ... 0.06254051 0.01084341 0.00822368]' has dtype incompatible with int64, please explicitly cast to a compatible dtype first.\n",
            "  train_df.loc[val_idx, f + '_target_enc'] = val_x[f + '_target_enc'].values\n",
            "<ipython-input-16-e05c806c0d6b>:12: FutureWarning: Passing a dictionary to SeriesGroupBy.agg is deprecated and will raise in a future version of pandas. Pass a list of aggregations instead.\n",
            "  enc_df = trn_x.groupby(f, as_index=False)['label'].agg({f + '_target_enc': 'mean'}) # calculate target encoding 针对每个feature key，计算在train中feature target的平均值，并将其作为encoded feature\n",
            "<ipython-input-16-e05c806c0d6b>:12: FutureWarning: Passing a dictionary to SeriesGroupBy.agg is deprecated and will raise in a future version of pandas. Pass a list of aggregations instead.\n",
            "  enc_df = trn_x.groupby(f, as_index=False)['label'].agg({f + '_target_enc': 'mean'}) # calculate target encoding 针对每个feature key，计算在train中feature target的平均值，并将其作为encoded feature\n",
            "<ipython-input-16-e05c806c0d6b>:12: FutureWarning: Passing a dictionary to SeriesGroupBy.agg is deprecated and will raise in a future version of pandas. Pass a list of aggregations instead.\n",
            "  enc_df = trn_x.groupby(f, as_index=False)['label'].agg({f + '_target_enc': 'mean'}) # calculate target encoding 针对每个feature key，计算在train中feature target的平均值，并将其作为encoded feature\n",
            "<ipython-input-16-e05c806c0d6b>:12: FutureWarning: Passing a dictionary to SeriesGroupBy.agg is deprecated and will raise in a future version of pandas. Pass a list of aggregations instead.\n",
            "  enc_df = trn_x.groupby(f, as_index=False)['label'].agg({f + '_target_enc': 'mean'}) # calculate target encoding 针对每个feature key，计算在train中feature target的平均值，并将其作为encoded feature\n",
            "  3%|▎         | 1/29 [00:02<00:58,  2.10s/it]<ipython-input-16-e05c806c0d6b>:12: FutureWarning: Passing a dictionary to SeriesGroupBy.agg is deprecated and will raise in a future version of pandas. Pass a list of aggregations instead.\n",
            "  enc_df = trn_x.groupby(f, as_index=False)['label'].agg({f + '_target_enc': 'mean'}) # calculate target encoding 针对每个feature key，计算在train中feature target的平均值，并将其作为encoded feature\n",
            "<ipython-input-16-e05c806c0d6b>:15: FutureWarning: Setting an item of incompatible dtype is deprecated and will raise an error in a future version of pandas. Value '[0.02449607 0.0136454  0.00693447 ... 0.06269073 0.01162502 0.00682993]' has dtype incompatible with int64, please explicitly cast to a compatible dtype first.\n",
            "  train_df.loc[val_idx, f + '_target_enc'] = val_x[f + '_target_enc'].values\n",
            "<ipython-input-16-e05c806c0d6b>:12: FutureWarning: Passing a dictionary to SeriesGroupBy.agg is deprecated and will raise in a future version of pandas. Pass a list of aggregations instead.\n",
            "  enc_df = trn_x.groupby(f, as_index=False)['label'].agg({f + '_target_enc': 'mean'}) # calculate target encoding 针对每个feature key，计算在train中feature target的平均值，并将其作为encoded feature\n",
            "<ipython-input-16-e05c806c0d6b>:12: FutureWarning: Passing a dictionary to SeriesGroupBy.agg is deprecated and will raise in a future version of pandas. Pass a list of aggregations instead.\n",
            "  enc_df = trn_x.groupby(f, as_index=False)['label'].agg({f + '_target_enc': 'mean'}) # calculate target encoding 针对每个feature key，计算在train中feature target的平均值，并将其作为encoded feature\n",
            "<ipython-input-16-e05c806c0d6b>:12: FutureWarning: Passing a dictionary to SeriesGroupBy.agg is deprecated and will raise in a future version of pandas. Pass a list of aggregations instead.\n",
            "  enc_df = trn_x.groupby(f, as_index=False)['label'].agg({f + '_target_enc': 'mean'}) # calculate target encoding 针对每个feature key，计算在train中feature target的平均值，并将其作为encoded feature\n",
            "<ipython-input-16-e05c806c0d6b>:12: FutureWarning: Passing a dictionary to SeriesGroupBy.agg is deprecated and will raise in a future version of pandas. Pass a list of aggregations instead.\n",
            "  enc_df = trn_x.groupby(f, as_index=False)['label'].agg({f + '_target_enc': 'mean'}) # calculate target encoding 针对每个feature key，计算在train中feature target的平均值，并将其作为encoded feature\n",
            "  7%|▋         | 2/29 [00:04<00:57,  2.11s/it]<ipython-input-16-e05c806c0d6b>:12: FutureWarning: Passing a dictionary to SeriesGroupBy.agg is deprecated and will raise in a future version of pandas. Pass a list of aggregations instead.\n",
            "  enc_df = trn_x.groupby(f, as_index=False)['label'].agg({f + '_target_enc': 'mean'}) # calculate target encoding 针对每个feature key，计算在train中feature target的平均值，并将其作为encoded feature\n",
            "<ipython-input-16-e05c806c0d6b>:15: FutureWarning: Setting an item of incompatible dtype is deprecated and will raise an error in a future version of pandas. Value '[0.01495058 0.01315666 0.00697054 ... 0.04538769 0.02058222 0.00639037]' has dtype incompatible with int64, please explicitly cast to a compatible dtype first.\n",
            "  train_df.loc[val_idx, f + '_target_enc'] = val_x[f + '_target_enc'].values\n",
            "<ipython-input-16-e05c806c0d6b>:12: FutureWarning: Passing a dictionary to SeriesGroupBy.agg is deprecated and will raise in a future version of pandas. Pass a list of aggregations instead.\n",
            "  enc_df = trn_x.groupby(f, as_index=False)['label'].agg({f + '_target_enc': 'mean'}) # calculate target encoding 针对每个feature key，计算在train中feature target的平均值，并将其作为encoded feature\n",
            "<ipython-input-16-e05c806c0d6b>:12: FutureWarning: Passing a dictionary to SeriesGroupBy.agg is deprecated and will raise in a future version of pandas. Pass a list of aggregations instead.\n",
            "  enc_df = trn_x.groupby(f, as_index=False)['label'].agg({f + '_target_enc': 'mean'}) # calculate target encoding 针对每个feature key，计算在train中feature target的平均值，并将其作为encoded feature\n",
            "<ipython-input-16-e05c806c0d6b>:12: FutureWarning: Passing a dictionary to SeriesGroupBy.agg is deprecated and will raise in a future version of pandas. Pass a list of aggregations instead.\n",
            "  enc_df = trn_x.groupby(f, as_index=False)['label'].agg({f + '_target_enc': 'mean'}) # calculate target encoding 针对每个feature key，计算在train中feature target的平均值，并将其作为encoded feature\n",
            "<ipython-input-16-e05c806c0d6b>:12: FutureWarning: Passing a dictionary to SeriesGroupBy.agg is deprecated and will raise in a future version of pandas. Pass a list of aggregations instead.\n",
            "  enc_df = trn_x.groupby(f, as_index=False)['label'].agg({f + '_target_enc': 'mean'}) # calculate target encoding 针对每个feature key，计算在train中feature target的平均值，并将其作为encoded feature\n",
            " 10%|█         | 3/29 [00:06<00:56,  2.17s/it]<ipython-input-16-e05c806c0d6b>:12: FutureWarning: Passing a dictionary to SeriesGroupBy.agg is deprecated and will raise in a future version of pandas. Pass a list of aggregations instead.\n",
            "  enc_df = trn_x.groupby(f, as_index=False)['label'].agg({f + '_target_enc': 'mean'}) # calculate target encoding 针对每个feature key，计算在train中feature target的平均值，并将其作为encoded feature\n",
            "<ipython-input-16-e05c806c0d6b>:15: FutureWarning: Setting an item of incompatible dtype is deprecated and will raise an error in a future version of pandas. Value '[0.00934702 0.01263981 0.00924221 ... 0.0434615  0.00934702 0.01626425]' has dtype incompatible with int64, please explicitly cast to a compatible dtype first.\n",
            "  train_df.loc[val_idx, f + '_target_enc'] = val_x[f + '_target_enc'].values\n",
            "<ipython-input-16-e05c806c0d6b>:12: FutureWarning: Passing a dictionary to SeriesGroupBy.agg is deprecated and will raise in a future version of pandas. Pass a list of aggregations instead.\n",
            "  enc_df = trn_x.groupby(f, as_index=False)['label'].agg({f + '_target_enc': 'mean'}) # calculate target encoding 针对每个feature key，计算在train中feature target的平均值，并将其作为encoded feature\n",
            "<ipython-input-16-e05c806c0d6b>:12: FutureWarning: Passing a dictionary to SeriesGroupBy.agg is deprecated and will raise in a future version of pandas. Pass a list of aggregations instead.\n",
            "  enc_df = trn_x.groupby(f, as_index=False)['label'].agg({f + '_target_enc': 'mean'}) # calculate target encoding 针对每个feature key，计算在train中feature target的平均值，并将其作为encoded feature\n",
            "<ipython-input-16-e05c806c0d6b>:12: FutureWarning: Passing a dictionary to SeriesGroupBy.agg is deprecated and will raise in a future version of pandas. Pass a list of aggregations instead.\n",
            "  enc_df = trn_x.groupby(f, as_index=False)['label'].agg({f + '_target_enc': 'mean'}) # calculate target encoding 针对每个feature key，计算在train中feature target的平均值，并将其作为encoded feature\n",
            "<ipython-input-16-e05c806c0d6b>:12: FutureWarning: Passing a dictionary to SeriesGroupBy.agg is deprecated and will raise in a future version of pandas. Pass a list of aggregations instead.\n",
            "  enc_df = trn_x.groupby(f, as_index=False)['label'].agg({f + '_target_enc': 'mean'}) # calculate target encoding 针对每个feature key，计算在train中feature target的平均值，并将其作为encoded feature\n",
            " 14%|█▍        | 4/29 [00:09<01:02,  2.48s/it]<ipython-input-16-e05c806c0d6b>:12: FutureWarning: Passing a dictionary to SeriesGroupBy.agg is deprecated and will raise in a future version of pandas. Pass a list of aggregations instead.\n",
            "  enc_df = trn_x.groupby(f, as_index=False)['label'].agg({f + '_target_enc': 'mean'}) # calculate target encoding 针对每个feature key，计算在train中feature target的平均值，并将其作为encoded feature\n",
            "<ipython-input-16-e05c806c0d6b>:15: FutureWarning: Setting an item of incompatible dtype is deprecated and will raise an error in a future version of pandas. Value '[0.0154931 0.0154931 0.0154931 ... 0.0154931 0.0154931 0.0154931]' has dtype incompatible with int64, please explicitly cast to a compatible dtype first.\n",
            "  train_df.loc[val_idx, f + '_target_enc'] = val_x[f + '_target_enc'].values\n",
            "<ipython-input-16-e05c806c0d6b>:12: FutureWarning: Passing a dictionary to SeriesGroupBy.agg is deprecated and will raise in a future version of pandas. Pass a list of aggregations instead.\n",
            "  enc_df = trn_x.groupby(f, as_index=False)['label'].agg({f + '_target_enc': 'mean'}) # calculate target encoding 针对每个feature key，计算在train中feature target的平均值，并将其作为encoded feature\n",
            "<ipython-input-16-e05c806c0d6b>:12: FutureWarning: Passing a dictionary to SeriesGroupBy.agg is deprecated and will raise in a future version of pandas. Pass a list of aggregations instead.\n",
            "  enc_df = trn_x.groupby(f, as_index=False)['label'].agg({f + '_target_enc': 'mean'}) # calculate target encoding 针对每个feature key，计算在train中feature target的平均值，并将其作为encoded feature\n",
            "<ipython-input-16-e05c806c0d6b>:12: FutureWarning: Passing a dictionary to SeriesGroupBy.agg is deprecated and will raise in a future version of pandas. Pass a list of aggregations instead.\n",
            "  enc_df = trn_x.groupby(f, as_index=False)['label'].agg({f + '_target_enc': 'mean'}) # calculate target encoding 针对每个feature key，计算在train中feature target的平均值，并将其作为encoded feature\n",
            "<ipython-input-16-e05c806c0d6b>:12: FutureWarning: Passing a dictionary to SeriesGroupBy.agg is deprecated and will raise in a future version of pandas. Pass a list of aggregations instead.\n",
            "  enc_df = trn_x.groupby(f, as_index=False)['label'].agg({f + '_target_enc': 'mean'}) # calculate target encoding 针对每个feature key，计算在train中feature target的平均值，并将其作为encoded feature\n",
            " 17%|█▋        | 5/29 [00:12<01:01,  2.56s/it]<ipython-input-16-e05c806c0d6b>:12: FutureWarning: Passing a dictionary to SeriesGroupBy.agg is deprecated and will raise in a future version of pandas. Pass a list of aggregations instead.\n",
            "  enc_df = trn_x.groupby(f, as_index=False)['label'].agg({f + '_target_enc': 'mean'}) # calculate target encoding 针对每个feature key，计算在train中feature target的平均值，并将其作为encoded feature\n",
            "<ipython-input-16-e05c806c0d6b>:15: FutureWarning: Setting an item of incompatible dtype is deprecated and will raise an error in a future version of pandas. Value '[0.02285257 0.0089075  0.0089075  ... 0.03147106 0.01437516 0.00531931]' has dtype incompatible with int64, please explicitly cast to a compatible dtype first.\n",
            "  train_df.loc[val_idx, f + '_target_enc'] = val_x[f + '_target_enc'].values\n",
            "<ipython-input-16-e05c806c0d6b>:12: FutureWarning: Passing a dictionary to SeriesGroupBy.agg is deprecated and will raise in a future version of pandas. Pass a list of aggregations instead.\n",
            "  enc_df = trn_x.groupby(f, as_index=False)['label'].agg({f + '_target_enc': 'mean'}) # calculate target encoding 针对每个feature key，计算在train中feature target的平均值，并将其作为encoded feature\n",
            "<ipython-input-16-e05c806c0d6b>:12: FutureWarning: Passing a dictionary to SeriesGroupBy.agg is deprecated and will raise in a future version of pandas. Pass a list of aggregations instead.\n",
            "  enc_df = trn_x.groupby(f, as_index=False)['label'].agg({f + '_target_enc': 'mean'}) # calculate target encoding 针对每个feature key，计算在train中feature target的平均值，并将其作为encoded feature\n",
            "<ipython-input-16-e05c806c0d6b>:12: FutureWarning: Passing a dictionary to SeriesGroupBy.agg is deprecated and will raise in a future version of pandas. Pass a list of aggregations instead.\n",
            "  enc_df = trn_x.groupby(f, as_index=False)['label'].agg({f + '_target_enc': 'mean'}) # calculate target encoding 针对每个feature key，计算在train中feature target的平均值，并将其作为encoded feature\n",
            "<ipython-input-16-e05c806c0d6b>:12: FutureWarning: Passing a dictionary to SeriesGroupBy.agg is deprecated and will raise in a future version of pandas. Pass a list of aggregations instead.\n",
            "  enc_df = trn_x.groupby(f, as_index=False)['label'].agg({f + '_target_enc': 'mean'}) # calculate target encoding 针对每个feature key，计算在train中feature target的平均值，并将其作为encoded feature\n",
            " 21%|██        | 6/29 [00:14<00:57,  2.50s/it]<ipython-input-16-e05c806c0d6b>:12: FutureWarning: Passing a dictionary to SeriesGroupBy.agg is deprecated and will raise in a future version of pandas. Pass a list of aggregations instead.\n",
            "  enc_df = trn_x.groupby(f, as_index=False)['label'].agg({f + '_target_enc': 'mean'}) # calculate target encoding 针对每个feature key，计算在train中feature target的平均值，并将其作为encoded feature\n",
            "<ipython-input-16-e05c806c0d6b>:15: FutureWarning: Setting an item of incompatible dtype is deprecated and will raise an error in a future version of pandas. Value '[0.0118339  0.0174519  0.02649899 ... 0.02649899 0.01296253 0.01362298]' has dtype incompatible with int64, please explicitly cast to a compatible dtype first.\n",
            "  train_df.loc[val_idx, f + '_target_enc'] = val_x[f + '_target_enc'].values\n",
            "<ipython-input-16-e05c806c0d6b>:12: FutureWarning: Passing a dictionary to SeriesGroupBy.agg is deprecated and will raise in a future version of pandas. Pass a list of aggregations instead.\n",
            "  enc_df = trn_x.groupby(f, as_index=False)['label'].agg({f + '_target_enc': 'mean'}) # calculate target encoding 针对每个feature key，计算在train中feature target的平均值，并将其作为encoded feature\n",
            "<ipython-input-16-e05c806c0d6b>:12: FutureWarning: Passing a dictionary to SeriesGroupBy.agg is deprecated and will raise in a future version of pandas. Pass a list of aggregations instead.\n",
            "  enc_df = trn_x.groupby(f, as_index=False)['label'].agg({f + '_target_enc': 'mean'}) # calculate target encoding 针对每个feature key，计算在train中feature target的平均值，并将其作为encoded feature\n",
            "<ipython-input-16-e05c806c0d6b>:12: FutureWarning: Passing a dictionary to SeriesGroupBy.agg is deprecated and will raise in a future version of pandas. Pass a list of aggregations instead.\n",
            "  enc_df = trn_x.groupby(f, as_index=False)['label'].agg({f + '_target_enc': 'mean'}) # calculate target encoding 针对每个feature key，计算在train中feature target的平均值，并将其作为encoded feature\n",
            "<ipython-input-16-e05c806c0d6b>:12: FutureWarning: Passing a dictionary to SeriesGroupBy.agg is deprecated and will raise in a future version of pandas. Pass a list of aggregations instead.\n",
            "  enc_df = trn_x.groupby(f, as_index=False)['label'].agg({f + '_target_enc': 'mean'}) # calculate target encoding 针对每个feature key，计算在train中feature target的平均值，并将其作为encoded feature\n",
            " 24%|██▍       | 7/29 [00:16<00:51,  2.33s/it]<ipython-input-16-e05c806c0d6b>:12: FutureWarning: Passing a dictionary to SeriesGroupBy.agg is deprecated and will raise in a future version of pandas. Pass a list of aggregations instead.\n",
            "  enc_df = trn_x.groupby(f, as_index=False)['label'].agg({f + '_target_enc': 'mean'}) # calculate target encoding 针对每个feature key，计算在train中feature target的平均值，并将其作为encoded feature\n",
            "<ipython-input-16-e05c806c0d6b>:15: FutureWarning: Setting an item of incompatible dtype is deprecated and will raise an error in a future version of pandas. Value '[0.0118339  0.0174519  0.02649899 ... 0.02649899 0.01296253 0.01362298]' has dtype incompatible with int64, please explicitly cast to a compatible dtype first.\n",
            "  train_df.loc[val_idx, f + '_target_enc'] = val_x[f + '_target_enc'].values\n",
            "<ipython-input-16-e05c806c0d6b>:12: FutureWarning: Passing a dictionary to SeriesGroupBy.agg is deprecated and will raise in a future version of pandas. Pass a list of aggregations instead.\n",
            "  enc_df = trn_x.groupby(f, as_index=False)['label'].agg({f + '_target_enc': 'mean'}) # calculate target encoding 针对每个feature key，计算在train中feature target的平均值，并将其作为encoded feature\n",
            "<ipython-input-16-e05c806c0d6b>:12: FutureWarning: Passing a dictionary to SeriesGroupBy.agg is deprecated and will raise in a future version of pandas. Pass a list of aggregations instead.\n",
            "  enc_df = trn_x.groupby(f, as_index=False)['label'].agg({f + '_target_enc': 'mean'}) # calculate target encoding 针对每个feature key，计算在train中feature target的平均值，并将其作为encoded feature\n",
            "<ipython-input-16-e05c806c0d6b>:12: FutureWarning: Passing a dictionary to SeriesGroupBy.agg is deprecated and will raise in a future version of pandas. Pass a list of aggregations instead.\n",
            "  enc_df = trn_x.groupby(f, as_index=False)['label'].agg({f + '_target_enc': 'mean'}) # calculate target encoding 针对每个feature key，计算在train中feature target的平均值，并将其作为encoded feature\n",
            "<ipython-input-16-e05c806c0d6b>:12: FutureWarning: Passing a dictionary to SeriesGroupBy.agg is deprecated and will raise in a future version of pandas. Pass a list of aggregations instead.\n",
            "  enc_df = trn_x.groupby(f, as_index=False)['label'].agg({f + '_target_enc': 'mean'}) # calculate target encoding 针对每个feature key，计算在train中feature target的平均值，并将其作为encoded feature\n",
            " 28%|██▊       | 8/29 [00:18<00:46,  2.22s/it]<ipython-input-16-e05c806c0d6b>:12: FutureWarning: Passing a dictionary to SeriesGroupBy.agg is deprecated and will raise in a future version of pandas. Pass a list of aggregations instead.\n",
            "  enc_df = trn_x.groupby(f, as_index=False)['label'].agg({f + '_target_enc': 'mean'}) # calculate target encoding 针对每个feature key，计算在train中feature target的平均值，并将其作为encoded feature\n",
            "<ipython-input-16-e05c806c0d6b>:15: FutureWarning: Setting an item of incompatible dtype is deprecated and will raise an error in a future version of pandas. Value '[0.0118339  0.0174519  0.02649899 ... 0.02649899 0.01296253 0.01362298]' has dtype incompatible with int64, please explicitly cast to a compatible dtype first.\n",
            "  train_df.loc[val_idx, f + '_target_enc'] = val_x[f + '_target_enc'].values\n",
            "<ipython-input-16-e05c806c0d6b>:12: FutureWarning: Passing a dictionary to SeriesGroupBy.agg is deprecated and will raise in a future version of pandas. Pass a list of aggregations instead.\n",
            "  enc_df = trn_x.groupby(f, as_index=False)['label'].agg({f + '_target_enc': 'mean'}) # calculate target encoding 针对每个feature key，计算在train中feature target的平均值，并将其作为encoded feature\n",
            "<ipython-input-16-e05c806c0d6b>:12: FutureWarning: Passing a dictionary to SeriesGroupBy.agg is deprecated and will raise in a future version of pandas. Pass a list of aggregations instead.\n",
            "  enc_df = trn_x.groupby(f, as_index=False)['label'].agg({f + '_target_enc': 'mean'}) # calculate target encoding 针对每个feature key，计算在train中feature target的平均值，并将其作为encoded feature\n",
            "<ipython-input-16-e05c806c0d6b>:12: FutureWarning: Passing a dictionary to SeriesGroupBy.agg is deprecated and will raise in a future version of pandas. Pass a list of aggregations instead.\n",
            "  enc_df = trn_x.groupby(f, as_index=False)['label'].agg({f + '_target_enc': 'mean'}) # calculate target encoding 针对每个feature key，计算在train中feature target的平均值，并将其作为encoded feature\n",
            "<ipython-input-16-e05c806c0d6b>:12: FutureWarning: Passing a dictionary to SeriesGroupBy.agg is deprecated and will raise in a future version of pandas. Pass a list of aggregations instead.\n",
            "  enc_df = trn_x.groupby(f, as_index=False)['label'].agg({f + '_target_enc': 'mean'}) # calculate target encoding 针对每个feature key，计算在train中feature target的平均值，并将其作为encoded feature\n",
            " 31%|███       | 9/29 [00:20<00:43,  2.16s/it]<ipython-input-16-e05c806c0d6b>:12: FutureWarning: Passing a dictionary to SeriesGroupBy.agg is deprecated and will raise in a future version of pandas. Pass a list of aggregations instead.\n",
            "  enc_df = trn_x.groupby(f, as_index=False)['label'].agg({f + '_target_enc': 'mean'}) # calculate target encoding 针对每个feature key，计算在train中feature target的平均值，并将其作为encoded feature\n",
            "<ipython-input-16-e05c806c0d6b>:15: FutureWarning: Setting an item of incompatible dtype is deprecated and will raise an error in a future version of pandas. Value '[0.01569856 0.01597153 0.01569856 ... 0.01569856 0.01296253 0.01569856]' has dtype incompatible with int64, please explicitly cast to a compatible dtype first.\n",
            "  train_df.loc[val_idx, f + '_target_enc'] = val_x[f + '_target_enc'].values\n",
            "<ipython-input-16-e05c806c0d6b>:12: FutureWarning: Passing a dictionary to SeriesGroupBy.agg is deprecated and will raise in a future version of pandas. Pass a list of aggregations instead.\n",
            "  enc_df = trn_x.groupby(f, as_index=False)['label'].agg({f + '_target_enc': 'mean'}) # calculate target encoding 针对每个feature key，计算在train中feature target的平均值，并将其作为encoded feature\n",
            "<ipython-input-16-e05c806c0d6b>:12: FutureWarning: Passing a dictionary to SeriesGroupBy.agg is deprecated and will raise in a future version of pandas. Pass a list of aggregations instead.\n",
            "  enc_df = trn_x.groupby(f, as_index=False)['label'].agg({f + '_target_enc': 'mean'}) # calculate target encoding 针对每个feature key，计算在train中feature target的平均值，并将其作为encoded feature\n",
            "<ipython-input-16-e05c806c0d6b>:12: FutureWarning: Passing a dictionary to SeriesGroupBy.agg is deprecated and will raise in a future version of pandas. Pass a list of aggregations instead.\n",
            "  enc_df = trn_x.groupby(f, as_index=False)['label'].agg({f + '_target_enc': 'mean'}) # calculate target encoding 针对每个feature key，计算在train中feature target的平均值，并将其作为encoded feature\n",
            "<ipython-input-16-e05c806c0d6b>:12: FutureWarning: Passing a dictionary to SeriesGroupBy.agg is deprecated and will raise in a future version of pandas. Pass a list of aggregations instead.\n",
            "  enc_df = trn_x.groupby(f, as_index=False)['label'].agg({f + '_target_enc': 'mean'}) # calculate target encoding 针对每个feature key，计算在train中feature target的平均值，并将其作为encoded feature\n",
            " 34%|███▍      | 10/29 [00:22<00:40,  2.12s/it]<ipython-input-16-e05c806c0d6b>:12: FutureWarning: Passing a dictionary to SeriesGroupBy.agg is deprecated and will raise in a future version of pandas. Pass a list of aggregations instead.\n",
            "  enc_df = trn_x.groupby(f, as_index=False)['label'].agg({f + '_target_enc': 'mean'}) # calculate target encoding 针对每个feature key，计算在train中feature target的平均值，并将其作为encoded feature\n",
            "<ipython-input-16-e05c806c0d6b>:15: FutureWarning: Setting an item of incompatible dtype is deprecated and will raise an error in a future version of pandas. Value '[0.0154931 0.0154931 0.0154931 ... 0.0154931 0.0154931 0.0154931]' has dtype incompatible with int64, please explicitly cast to a compatible dtype first.\n",
            "  train_df.loc[val_idx, f + '_target_enc'] = val_x[f + '_target_enc'].values\n",
            "<ipython-input-16-e05c806c0d6b>:12: FutureWarning: Passing a dictionary to SeriesGroupBy.agg is deprecated and will raise in a future version of pandas. Pass a list of aggregations instead.\n",
            "  enc_df = trn_x.groupby(f, as_index=False)['label'].agg({f + '_target_enc': 'mean'}) # calculate target encoding 针对每个feature key，计算在train中feature target的平均值，并将其作为encoded feature\n",
            "<ipython-input-16-e05c806c0d6b>:12: FutureWarning: Passing a dictionary to SeriesGroupBy.agg is deprecated and will raise in a future version of pandas. Pass a list of aggregations instead.\n",
            "  enc_df = trn_x.groupby(f, as_index=False)['label'].agg({f + '_target_enc': 'mean'}) # calculate target encoding 针对每个feature key，计算在train中feature target的平均值，并将其作为encoded feature\n",
            "<ipython-input-16-e05c806c0d6b>:12: FutureWarning: Passing a dictionary to SeriesGroupBy.agg is deprecated and will raise in a future version of pandas. Pass a list of aggregations instead.\n",
            "  enc_df = trn_x.groupby(f, as_index=False)['label'].agg({f + '_target_enc': 'mean'}) # calculate target encoding 针对每个feature key，计算在train中feature target的平均值，并将其作为encoded feature\n",
            "<ipython-input-16-e05c806c0d6b>:12: FutureWarning: Passing a dictionary to SeriesGroupBy.agg is deprecated and will raise in a future version of pandas. Pass a list of aggregations instead.\n",
            "  enc_df = trn_x.groupby(f, as_index=False)['label'].agg({f + '_target_enc': 'mean'}) # calculate target encoding 针对每个feature key，计算在train中feature target的平均值，并将其作为encoded feature\n",
            " 38%|███▊      | 11/29 [00:25<00:42,  2.38s/it]<ipython-input-16-e05c806c0d6b>:12: FutureWarning: Passing a dictionary to SeriesGroupBy.agg is deprecated and will raise in a future version of pandas. Pass a list of aggregations instead.\n",
            "  enc_df = trn_x.groupby(f, as_index=False)['label'].agg({f + '_target_enc': 'mean'}) # calculate target encoding 针对每个feature key，计算在train中feature target的平均值，并将其作为encoded feature\n",
            "<ipython-input-16-e05c806c0d6b>:15: FutureWarning: Setting an item of incompatible dtype is deprecated and will raise an error in a future version of pandas. Value '[0.0118339  0.01481848 0.02649899 ... 0.02649899 0.01296253 0.01481848]' has dtype incompatible with int64, please explicitly cast to a compatible dtype first.\n",
            "  train_df.loc[val_idx, f + '_target_enc'] = val_x[f + '_target_enc'].values\n",
            "<ipython-input-16-e05c806c0d6b>:12: FutureWarning: Passing a dictionary to SeriesGroupBy.agg is deprecated and will raise in a future version of pandas. Pass a list of aggregations instead.\n",
            "  enc_df = trn_x.groupby(f, as_index=False)['label'].agg({f + '_target_enc': 'mean'}) # calculate target encoding 针对每个feature key，计算在train中feature target的平均值，并将其作为encoded feature\n",
            "<ipython-input-16-e05c806c0d6b>:12: FutureWarning: Passing a dictionary to SeriesGroupBy.agg is deprecated and will raise in a future version of pandas. Pass a list of aggregations instead.\n",
            "  enc_df = trn_x.groupby(f, as_index=False)['label'].agg({f + '_target_enc': 'mean'}) # calculate target encoding 针对每个feature key，计算在train中feature target的平均值，并将其作为encoded feature\n",
            "<ipython-input-16-e05c806c0d6b>:12: FutureWarning: Passing a dictionary to SeriesGroupBy.agg is deprecated and will raise in a future version of pandas. Pass a list of aggregations instead.\n",
            "  enc_df = trn_x.groupby(f, as_index=False)['label'].agg({f + '_target_enc': 'mean'}) # calculate target encoding 针对每个feature key，计算在train中feature target的平均值，并将其作为encoded feature\n",
            "<ipython-input-16-e05c806c0d6b>:12: FutureWarning: Passing a dictionary to SeriesGroupBy.agg is deprecated and will raise in a future version of pandas. Pass a list of aggregations instead.\n",
            "  enc_df = trn_x.groupby(f, as_index=False)['label'].agg({f + '_target_enc': 'mean'}) # calculate target encoding 针对每个feature key，计算在train中feature target的平均值，并将其作为encoded feature\n",
            " 41%|████▏     | 12/29 [00:27<00:40,  2.39s/it]<ipython-input-16-e05c806c0d6b>:12: FutureWarning: Passing a dictionary to SeriesGroupBy.agg is deprecated and will raise in a future version of pandas. Pass a list of aggregations instead.\n",
            "  enc_df = trn_x.groupby(f, as_index=False)['label'].agg({f + '_target_enc': 'mean'}) # calculate target encoding 针对每个feature key，计算在train中feature target的平均值，并将其作为encoded feature\n",
            "<ipython-input-16-e05c806c0d6b>:15: FutureWarning: Setting an item of incompatible dtype is deprecated and will raise an error in a future version of pandas. Value '[0.01590881 0.01456518 0.01590881 ... 0.01590881 0.01590881 0.01590881]' has dtype incompatible with int64, please explicitly cast to a compatible dtype first.\n",
            "  train_df.loc[val_idx, f + '_target_enc'] = val_x[f + '_target_enc'].values\n",
            "<ipython-input-16-e05c806c0d6b>:12: FutureWarning: Passing a dictionary to SeriesGroupBy.agg is deprecated and will raise in a future version of pandas. Pass a list of aggregations instead.\n",
            "  enc_df = trn_x.groupby(f, as_index=False)['label'].agg({f + '_target_enc': 'mean'}) # calculate target encoding 针对每个feature key，计算在train中feature target的平均值，并将其作为encoded feature\n",
            "<ipython-input-16-e05c806c0d6b>:12: FutureWarning: Passing a dictionary to SeriesGroupBy.agg is deprecated and will raise in a future version of pandas. Pass a list of aggregations instead.\n",
            "  enc_df = trn_x.groupby(f, as_index=False)['label'].agg({f + '_target_enc': 'mean'}) # calculate target encoding 针对每个feature key，计算在train中feature target的平均值，并将其作为encoded feature\n",
            "<ipython-input-16-e05c806c0d6b>:12: FutureWarning: Passing a dictionary to SeriesGroupBy.agg is deprecated and will raise in a future version of pandas. Pass a list of aggregations instead.\n",
            "  enc_df = trn_x.groupby(f, as_index=False)['label'].agg({f + '_target_enc': 'mean'}) # calculate target encoding 针对每个feature key，计算在train中feature target的平均值，并将其作为encoded feature\n",
            "<ipython-input-16-e05c806c0d6b>:12: FutureWarning: Passing a dictionary to SeriesGroupBy.agg is deprecated and will raise in a future version of pandas. Pass a list of aggregations instead.\n",
            "  enc_df = trn_x.groupby(f, as_index=False)['label'].agg({f + '_target_enc': 'mean'}) # calculate target encoding 针对每个feature key，计算在train中feature target的平均值，并将其作为encoded feature\n",
            " 45%|████▍     | 13/29 [00:29<00:36,  2.29s/it]<ipython-input-16-e05c806c0d6b>:12: FutureWarning: Passing a dictionary to SeriesGroupBy.agg is deprecated and will raise in a future version of pandas. Pass a list of aggregations instead.\n",
            "  enc_df = trn_x.groupby(f, as_index=False)['label'].agg({f + '_target_enc': 'mean'}) # calculate target encoding 针对每个feature key，计算在train中feature target的平均值，并将其作为encoded feature\n",
            "<ipython-input-16-e05c806c0d6b>:15: FutureWarning: Setting an item of incompatible dtype is deprecated and will raise an error in a future version of pandas. Value '[0.01590881 0.01456518 0.01590881 ... 0.01590881 0.01590881 0.01590881]' has dtype incompatible with int64, please explicitly cast to a compatible dtype first.\n",
            "  train_df.loc[val_idx, f + '_target_enc'] = val_x[f + '_target_enc'].values\n",
            "<ipython-input-16-e05c806c0d6b>:12: FutureWarning: Passing a dictionary to SeriesGroupBy.agg is deprecated and will raise in a future version of pandas. Pass a list of aggregations instead.\n",
            "  enc_df = trn_x.groupby(f, as_index=False)['label'].agg({f + '_target_enc': 'mean'}) # calculate target encoding 针对每个feature key，计算在train中feature target的平均值，并将其作为encoded feature\n",
            "<ipython-input-16-e05c806c0d6b>:12: FutureWarning: Passing a dictionary to SeriesGroupBy.agg is deprecated and will raise in a future version of pandas. Pass a list of aggregations instead.\n",
            "  enc_df = trn_x.groupby(f, as_index=False)['label'].agg({f + '_target_enc': 'mean'}) # calculate target encoding 针对每个feature key，计算在train中feature target的平均值，并将其作为encoded feature\n",
            "<ipython-input-16-e05c806c0d6b>:12: FutureWarning: Passing a dictionary to SeriesGroupBy.agg is deprecated and will raise in a future version of pandas. Pass a list of aggregations instead.\n",
            "  enc_df = trn_x.groupby(f, as_index=False)['label'].agg({f + '_target_enc': 'mean'}) # calculate target encoding 针对每个feature key，计算在train中feature target的平均值，并将其作为encoded feature\n",
            "<ipython-input-16-e05c806c0d6b>:12: FutureWarning: Passing a dictionary to SeriesGroupBy.agg is deprecated and will raise in a future version of pandas. Pass a list of aggregations instead.\n",
            "  enc_df = trn_x.groupby(f, as_index=False)['label'].agg({f + '_target_enc': 'mean'}) # calculate target encoding 针对每个feature key，计算在train中feature target的平均值，并将其作为encoded feature\n",
            " 48%|████▊     | 14/29 [00:31<00:33,  2.21s/it]<ipython-input-16-e05c806c0d6b>:12: FutureWarning: Passing a dictionary to SeriesGroupBy.agg is deprecated and will raise in a future version of pandas. Pass a list of aggregations instead.\n",
            "  enc_df = trn_x.groupby(f, as_index=False)['label'].agg({f + '_target_enc': 'mean'}) # calculate target encoding 针对每个feature key，计算在train中feature target的平均值，并将其作为encoded feature\n",
            "<ipython-input-16-e05c806c0d6b>:15: FutureWarning: Setting an item of incompatible dtype is deprecated and will raise an error in a future version of pandas. Value '[0.01590881 0.01456518 0.01590881 ... 0.01590881 0.01590881 0.01590881]' has dtype incompatible with int64, please explicitly cast to a compatible dtype first.\n",
            "  train_df.loc[val_idx, f + '_target_enc'] = val_x[f + '_target_enc'].values\n",
            "<ipython-input-16-e05c806c0d6b>:12: FutureWarning: Passing a dictionary to SeriesGroupBy.agg is deprecated and will raise in a future version of pandas. Pass a list of aggregations instead.\n",
            "  enc_df = trn_x.groupby(f, as_index=False)['label'].agg({f + '_target_enc': 'mean'}) # calculate target encoding 针对每个feature key，计算在train中feature target的平均值，并将其作为encoded feature\n",
            "<ipython-input-16-e05c806c0d6b>:12: FutureWarning: Passing a dictionary to SeriesGroupBy.agg is deprecated and will raise in a future version of pandas. Pass a list of aggregations instead.\n",
            "  enc_df = trn_x.groupby(f, as_index=False)['label'].agg({f + '_target_enc': 'mean'}) # calculate target encoding 针对每个feature key，计算在train中feature target的平均值，并将其作为encoded feature\n",
            "<ipython-input-16-e05c806c0d6b>:12: FutureWarning: Passing a dictionary to SeriesGroupBy.agg is deprecated and will raise in a future version of pandas. Pass a list of aggregations instead.\n",
            "  enc_df = trn_x.groupby(f, as_index=False)['label'].agg({f + '_target_enc': 'mean'}) # calculate target encoding 针对每个feature key，计算在train中feature target的平均值，并将其作为encoded feature\n",
            "<ipython-input-16-e05c806c0d6b>:12: FutureWarning: Passing a dictionary to SeriesGroupBy.agg is deprecated and will raise in a future version of pandas. Pass a list of aggregations instead.\n",
            "  enc_df = trn_x.groupby(f, as_index=False)['label'].agg({f + '_target_enc': 'mean'}) # calculate target encoding 针对每个feature key，计算在train中feature target的平均值，并将其作为encoded feature\n",
            " 52%|█████▏    | 15/29 [00:33<00:29,  2.14s/it]<ipython-input-16-e05c806c0d6b>:12: FutureWarning: Passing a dictionary to SeriesGroupBy.agg is deprecated and will raise in a future version of pandas. Pass a list of aggregations instead.\n",
            "  enc_df = trn_x.groupby(f, as_index=False)['label'].agg({f + '_target_enc': 'mean'}) # calculate target encoding 针对每个feature key，计算在train中feature target的平均值，并将其作为encoded feature\n",
            "<ipython-input-16-e05c806c0d6b>:15: FutureWarning: Setting an item of incompatible dtype is deprecated and will raise an error in a future version of pandas. Value '[0.01590881 0.01406497 0.01590881 ... 0.01590881 0.01590881 0.01590881]' has dtype incompatible with int64, please explicitly cast to a compatible dtype first.\n",
            "  train_df.loc[val_idx, f + '_target_enc'] = val_x[f + '_target_enc'].values\n",
            "<ipython-input-16-e05c806c0d6b>:12: FutureWarning: Passing a dictionary to SeriesGroupBy.agg is deprecated and will raise in a future version of pandas. Pass a list of aggregations instead.\n",
            "  enc_df = trn_x.groupby(f, as_index=False)['label'].agg({f + '_target_enc': 'mean'}) # calculate target encoding 针对每个feature key，计算在train中feature target的平均值，并将其作为encoded feature\n",
            "<ipython-input-16-e05c806c0d6b>:12: FutureWarning: Passing a dictionary to SeriesGroupBy.agg is deprecated and will raise in a future version of pandas. Pass a list of aggregations instead.\n",
            "  enc_df = trn_x.groupby(f, as_index=False)['label'].agg({f + '_target_enc': 'mean'}) # calculate target encoding 针对每个feature key，计算在train中feature target的平均值，并将其作为encoded feature\n",
            "<ipython-input-16-e05c806c0d6b>:12: FutureWarning: Passing a dictionary to SeriesGroupBy.agg is deprecated and will raise in a future version of pandas. Pass a list of aggregations instead.\n",
            "  enc_df = trn_x.groupby(f, as_index=False)['label'].agg({f + '_target_enc': 'mean'}) # calculate target encoding 针对每个feature key，计算在train中feature target的平均值，并将其作为encoded feature\n",
            "<ipython-input-16-e05c806c0d6b>:12: FutureWarning: Passing a dictionary to SeriesGroupBy.agg is deprecated and will raise in a future version of pandas. Pass a list of aggregations instead.\n",
            "  enc_df = trn_x.groupby(f, as_index=False)['label'].agg({f + '_target_enc': 'mean'}) # calculate target encoding 针对每个feature key，计算在train中feature target的平均值，并将其作为encoded feature\n",
            " 55%|█████▌    | 16/29 [00:35<00:27,  2.11s/it]<ipython-input-16-e05c806c0d6b>:12: FutureWarning: Passing a dictionary to SeriesGroupBy.agg is deprecated and will raise in a future version of pandas. Pass a list of aggregations instead.\n",
            "  enc_df = trn_x.groupby(f, as_index=False)['label'].agg({f + '_target_enc': 'mean'}) # calculate target encoding 针对每个feature key，计算在train中feature target的平均值，并将其作为encoded feature\n",
            "<ipython-input-16-e05c806c0d6b>:15: FutureWarning: Setting an item of incompatible dtype is deprecated and will raise an error in a future version of pandas. Value '[0.0154931 0.0154931 0.0154931 ... 0.0154931 0.0154931 0.0154931]' has dtype incompatible with int64, please explicitly cast to a compatible dtype first.\n",
            "  train_df.loc[val_idx, f + '_target_enc'] = val_x[f + '_target_enc'].values\n",
            "<ipython-input-16-e05c806c0d6b>:12: FutureWarning: Passing a dictionary to SeriesGroupBy.agg is deprecated and will raise in a future version of pandas. Pass a list of aggregations instead.\n",
            "  enc_df = trn_x.groupby(f, as_index=False)['label'].agg({f + '_target_enc': 'mean'}) # calculate target encoding 针对每个feature key，计算在train中feature target的平均值，并将其作为encoded feature\n",
            "<ipython-input-16-e05c806c0d6b>:12: FutureWarning: Passing a dictionary to SeriesGroupBy.agg is deprecated and will raise in a future version of pandas. Pass a list of aggregations instead.\n",
            "  enc_df = trn_x.groupby(f, as_index=False)['label'].agg({f + '_target_enc': 'mean'}) # calculate target encoding 针对每个feature key，计算在train中feature target的平均值，并将其作为encoded feature\n",
            "<ipython-input-16-e05c806c0d6b>:12: FutureWarning: Passing a dictionary to SeriesGroupBy.agg is deprecated and will raise in a future version of pandas. Pass a list of aggregations instead.\n",
            "  enc_df = trn_x.groupby(f, as_index=False)['label'].agg({f + '_target_enc': 'mean'}) # calculate target encoding 针对每个feature key，计算在train中feature target的平均值，并将其作为encoded feature\n",
            "<ipython-input-16-e05c806c0d6b>:12: FutureWarning: Passing a dictionary to SeriesGroupBy.agg is deprecated and will raise in a future version of pandas. Pass a list of aggregations instead.\n",
            "  enc_df = trn_x.groupby(f, as_index=False)['label'].agg({f + '_target_enc': 'mean'}) # calculate target encoding 针对每个feature key，计算在train中feature target的平均值，并将其作为encoded feature\n",
            " 59%|█████▊    | 17/29 [00:38<00:26,  2.22s/it]<ipython-input-16-e05c806c0d6b>:12: FutureWarning: Passing a dictionary to SeriesGroupBy.agg is deprecated and will raise in a future version of pandas. Pass a list of aggregations instead.\n",
            "  enc_df = trn_x.groupby(f, as_index=False)['label'].agg({f + '_target_enc': 'mean'}) # calculate target encoding 针对每个feature key，计算在train中feature target的平均值，并将其作为encoded feature\n",
            "<ipython-input-16-e05c806c0d6b>:15: FutureWarning: Setting an item of incompatible dtype is deprecated and will raise an error in a future version of pandas. Value '[0.01590881 0.01456518 0.01590881 ... 0.01590881 0.01590881 0.01590881]' has dtype incompatible with int64, please explicitly cast to a compatible dtype first.\n",
            "  train_df.loc[val_idx, f + '_target_enc'] = val_x[f + '_target_enc'].values\n",
            "<ipython-input-16-e05c806c0d6b>:12: FutureWarning: Passing a dictionary to SeriesGroupBy.agg is deprecated and will raise in a future version of pandas. Pass a list of aggregations instead.\n",
            "  enc_df = trn_x.groupby(f, as_index=False)['label'].agg({f + '_target_enc': 'mean'}) # calculate target encoding 针对每个feature key，计算在train中feature target的平均值，并将其作为encoded feature\n",
            "<ipython-input-16-e05c806c0d6b>:12: FutureWarning: Passing a dictionary to SeriesGroupBy.agg is deprecated and will raise in a future version of pandas. Pass a list of aggregations instead.\n",
            "  enc_df = trn_x.groupby(f, as_index=False)['label'].agg({f + '_target_enc': 'mean'}) # calculate target encoding 针对每个feature key，计算在train中feature target的平均值，并将其作为encoded feature\n",
            "<ipython-input-16-e05c806c0d6b>:12: FutureWarning: Passing a dictionary to SeriesGroupBy.agg is deprecated and will raise in a future version of pandas. Pass a list of aggregations instead.\n",
            "  enc_df = trn_x.groupby(f, as_index=False)['label'].agg({f + '_target_enc': 'mean'}) # calculate target encoding 针对每个feature key，计算在train中feature target的平均值，并将其作为encoded feature\n",
            "<ipython-input-16-e05c806c0d6b>:12: FutureWarning: Passing a dictionary to SeriesGroupBy.agg is deprecated and will raise in a future version of pandas. Pass a list of aggregations instead.\n",
            "  enc_df = trn_x.groupby(f, as_index=False)['label'].agg({f + '_target_enc': 'mean'}) # calculate target encoding 针对每个feature key，计算在train中feature target的平均值，并将其作为encoded feature\n",
            " 62%|██████▏   | 18/29 [00:41<00:26,  2.37s/it]<ipython-input-16-e05c806c0d6b>:12: FutureWarning: Passing a dictionary to SeriesGroupBy.agg is deprecated and will raise in a future version of pandas. Pass a list of aggregations instead.\n",
            "  enc_df = trn_x.groupby(f, as_index=False)['label'].agg({f + '_target_enc': 'mean'}) # calculate target encoding 针对每个feature key，计算在train中feature target的平均值，并将其作为encoded feature\n",
            "<ipython-input-16-e05c806c0d6b>:15: FutureWarning: Setting an item of incompatible dtype is deprecated and will raise an error in a future version of pandas. Value '[0.01426047 0.01602462 0.01602462 ... 0.01602462 0.01602462 0.01602462]' has dtype incompatible with int64, please explicitly cast to a compatible dtype first.\n",
            "  train_df.loc[val_idx, f + '_target_enc'] = val_x[f + '_target_enc'].values\n",
            "<ipython-input-16-e05c806c0d6b>:12: FutureWarning: Passing a dictionary to SeriesGroupBy.agg is deprecated and will raise in a future version of pandas. Pass a list of aggregations instead.\n",
            "  enc_df = trn_x.groupby(f, as_index=False)['label'].agg({f + '_target_enc': 'mean'}) # calculate target encoding 针对每个feature key，计算在train中feature target的平均值，并将其作为encoded feature\n",
            "<ipython-input-16-e05c806c0d6b>:12: FutureWarning: Passing a dictionary to SeriesGroupBy.agg is deprecated and will raise in a future version of pandas. Pass a list of aggregations instead.\n",
            "  enc_df = trn_x.groupby(f, as_index=False)['label'].agg({f + '_target_enc': 'mean'}) # calculate target encoding 针对每个feature key，计算在train中feature target的平均值，并将其作为encoded feature\n",
            "<ipython-input-16-e05c806c0d6b>:12: FutureWarning: Passing a dictionary to SeriesGroupBy.agg is deprecated and will raise in a future version of pandas. Pass a list of aggregations instead.\n",
            "  enc_df = trn_x.groupby(f, as_index=False)['label'].agg({f + '_target_enc': 'mean'}) # calculate target encoding 针对每个feature key，计算在train中feature target的平均值，并将其作为encoded feature\n",
            "<ipython-input-16-e05c806c0d6b>:12: FutureWarning: Passing a dictionary to SeriesGroupBy.agg is deprecated and will raise in a future version of pandas. Pass a list of aggregations instead.\n",
            "  enc_df = trn_x.groupby(f, as_index=False)['label'].agg({f + '_target_enc': 'mean'}) # calculate target encoding 针对每个feature key，计算在train中feature target的平均值，并将其作为encoded feature\n",
            " 66%|██████▌   | 19/29 [00:43<00:22,  2.26s/it]<ipython-input-16-e05c806c0d6b>:12: FutureWarning: Passing a dictionary to SeriesGroupBy.agg is deprecated and will raise in a future version of pandas. Pass a list of aggregations instead.\n",
            "  enc_df = trn_x.groupby(f, as_index=False)['label'].agg({f + '_target_enc': 'mean'}) # calculate target encoding 针对每个feature key，计算在train中feature target的平均值，并将其作为encoded feature\n",
            "<ipython-input-16-e05c806c0d6b>:15: FutureWarning: Setting an item of incompatible dtype is deprecated and will raise an error in a future version of pandas. Value '[0.03589544 0.02796117 0.00088145 ... 0.02681883 0.01476793 0.00069909]' has dtype incompatible with int64, please explicitly cast to a compatible dtype first.\n",
            "  train_df.loc[val_idx, f + '_target_enc'] = val_x[f + '_target_enc'].values\n",
            "<ipython-input-16-e05c806c0d6b>:12: FutureWarning: Passing a dictionary to SeriesGroupBy.agg is deprecated and will raise in a future version of pandas. Pass a list of aggregations instead.\n",
            "  enc_df = trn_x.groupby(f, as_index=False)['label'].agg({f + '_target_enc': 'mean'}) # calculate target encoding 针对每个feature key，计算在train中feature target的平均值，并将其作为encoded feature\n",
            "<ipython-input-16-e05c806c0d6b>:12: FutureWarning: Passing a dictionary to SeriesGroupBy.agg is deprecated and will raise in a future version of pandas. Pass a list of aggregations instead.\n",
            "  enc_df = trn_x.groupby(f, as_index=False)['label'].agg({f + '_target_enc': 'mean'}) # calculate target encoding 针对每个feature key，计算在train中feature target的平均值，并将其作为encoded feature\n",
            "<ipython-input-16-e05c806c0d6b>:12: FutureWarning: Passing a dictionary to SeriesGroupBy.agg is deprecated and will raise in a future version of pandas. Pass a list of aggregations instead.\n",
            "  enc_df = trn_x.groupby(f, as_index=False)['label'].agg({f + '_target_enc': 'mean'}) # calculate target encoding 针对每个feature key，计算在train中feature target的平均值，并将其作为encoded feature\n",
            "<ipython-input-16-e05c806c0d6b>:12: FutureWarning: Passing a dictionary to SeriesGroupBy.agg is deprecated and will raise in a future version of pandas. Pass a list of aggregations instead.\n",
            "  enc_df = trn_x.groupby(f, as_index=False)['label'].agg({f + '_target_enc': 'mean'}) # calculate target encoding 针对每个feature key，计算在train中feature target的平均值，并将其作为encoded feature\n",
            " 69%|██████▉   | 20/29 [00:45<00:19,  2.20s/it]<ipython-input-16-e05c806c0d6b>:12: FutureWarning: Passing a dictionary to SeriesGroupBy.agg is deprecated and will raise in a future version of pandas. Pass a list of aggregations instead.\n",
            "  enc_df = trn_x.groupby(f, as_index=False)['label'].agg({f + '_target_enc': 'mean'}) # calculate target encoding 针对每个feature key，计算在train中feature target的平均值，并将其作为encoded feature\n",
            "<ipython-input-16-e05c806c0d6b>:15: FutureWarning: Setting an item of incompatible dtype is deprecated and will raise an error in a future version of pandas. Value '[0.03589544 0.02796117 0.00088145 ... 0.02681883 0.01476793 0.00069909]' has dtype incompatible with int64, please explicitly cast to a compatible dtype first.\n",
            "  train_df.loc[val_idx, f + '_target_enc'] = val_x[f + '_target_enc'].values\n",
            "<ipython-input-16-e05c806c0d6b>:12: FutureWarning: Passing a dictionary to SeriesGroupBy.agg is deprecated and will raise in a future version of pandas. Pass a list of aggregations instead.\n",
            "  enc_df = trn_x.groupby(f, as_index=False)['label'].agg({f + '_target_enc': 'mean'}) # calculate target encoding 针对每个feature key，计算在train中feature target的平均值，并将其作为encoded feature\n",
            "<ipython-input-16-e05c806c0d6b>:12: FutureWarning: Passing a dictionary to SeriesGroupBy.agg is deprecated and will raise in a future version of pandas. Pass a list of aggregations instead.\n",
            "  enc_df = trn_x.groupby(f, as_index=False)['label'].agg({f + '_target_enc': 'mean'}) # calculate target encoding 针对每个feature key，计算在train中feature target的平均值，并将其作为encoded feature\n",
            "<ipython-input-16-e05c806c0d6b>:12: FutureWarning: Passing a dictionary to SeriesGroupBy.agg is deprecated and will raise in a future version of pandas. Pass a list of aggregations instead.\n",
            "  enc_df = trn_x.groupby(f, as_index=False)['label'].agg({f + '_target_enc': 'mean'}) # calculate target encoding 针对每个feature key，计算在train中feature target的平均值，并将其作为encoded feature\n",
            "<ipython-input-16-e05c806c0d6b>:12: FutureWarning: Passing a dictionary to SeriesGroupBy.agg is deprecated and will raise in a future version of pandas. Pass a list of aggregations instead.\n",
            "  enc_df = trn_x.groupby(f, as_index=False)['label'].agg({f + '_target_enc': 'mean'}) # calculate target encoding 针对每个feature key，计算在train中feature target的平均值，并将其作为encoded feature\n",
            " 72%|███████▏  | 21/29 [00:47<00:17,  2.14s/it]<ipython-input-16-e05c806c0d6b>:12: FutureWarning: Passing a dictionary to SeriesGroupBy.agg is deprecated and will raise in a future version of pandas. Pass a list of aggregations instead.\n",
            "  enc_df = trn_x.groupby(f, as_index=False)['label'].agg({f + '_target_enc': 'mean'}) # calculate target encoding 针对每个feature key，计算在train中feature target的平均值，并将其作为encoded feature\n",
            "<ipython-input-16-e05c806c0d6b>:15: FutureWarning: Setting an item of incompatible dtype is deprecated and will raise an error in a future version of pandas. Value '[0.02376002 0.05215613 0.01280228 ... 0.01872004 0.00733447 0.00357939]' has dtype incompatible with int64, please explicitly cast to a compatible dtype first.\n",
            "  train_df.loc[val_idx, f + '_target_enc'] = val_x[f + '_target_enc'].values\n",
            "<ipython-input-16-e05c806c0d6b>:12: FutureWarning: Passing a dictionary to SeriesGroupBy.agg is deprecated and will raise in a future version of pandas. Pass a list of aggregations instead.\n",
            "  enc_df = trn_x.groupby(f, as_index=False)['label'].agg({f + '_target_enc': 'mean'}) # calculate target encoding 针对每个feature key，计算在train中feature target的平均值，并将其作为encoded feature\n",
            "<ipython-input-16-e05c806c0d6b>:12: FutureWarning: Passing a dictionary to SeriesGroupBy.agg is deprecated and will raise in a future version of pandas. Pass a list of aggregations instead.\n",
            "  enc_df = trn_x.groupby(f, as_index=False)['label'].agg({f + '_target_enc': 'mean'}) # calculate target encoding 针对每个feature key，计算在train中feature target的平均值，并将其作为encoded feature\n",
            "<ipython-input-16-e05c806c0d6b>:12: FutureWarning: Passing a dictionary to SeriesGroupBy.agg is deprecated and will raise in a future version of pandas. Pass a list of aggregations instead.\n",
            "  enc_df = trn_x.groupby(f, as_index=False)['label'].agg({f + '_target_enc': 'mean'}) # calculate target encoding 针对每个feature key，计算在train中feature target的平均值，并将其作为encoded feature\n",
            "<ipython-input-16-e05c806c0d6b>:12: FutureWarning: Passing a dictionary to SeriesGroupBy.agg is deprecated and will raise in a future version of pandas. Pass a list of aggregations instead.\n",
            "  enc_df = trn_x.groupby(f, as_index=False)['label'].agg({f + '_target_enc': 'mean'}) # calculate target encoding 针对每个feature key，计算在train中feature target的平均值，并将其作为encoded feature\n",
            " 76%|███████▌  | 22/29 [00:49<00:14,  2.09s/it]<ipython-input-16-e05c806c0d6b>:12: FutureWarning: Passing a dictionary to SeriesGroupBy.agg is deprecated and will raise in a future version of pandas. Pass a list of aggregations instead.\n",
            "  enc_df = trn_x.groupby(f, as_index=False)['label'].agg({f + '_target_enc': 'mean'}) # calculate target encoding 针对每个feature key，计算在train中feature target的平均值，并将其作为encoded feature\n",
            "<ipython-input-16-e05c806c0d6b>:15: FutureWarning: Setting an item of incompatible dtype is deprecated and will raise an error in a future version of pandas. Value '[0.0118339  0.0174519  0.02649899 ... 0.02649899 0.01296253 0.01362298]' has dtype incompatible with int64, please explicitly cast to a compatible dtype first.\n",
            "  train_df.loc[val_idx, f + '_target_enc'] = val_x[f + '_target_enc'].values\n",
            "<ipython-input-16-e05c806c0d6b>:12: FutureWarning: Passing a dictionary to SeriesGroupBy.agg is deprecated and will raise in a future version of pandas. Pass a list of aggregations instead.\n",
            "  enc_df = trn_x.groupby(f, as_index=False)['label'].agg({f + '_target_enc': 'mean'}) # calculate target encoding 针对每个feature key，计算在train中feature target的平均值，并将其作为encoded feature\n",
            "<ipython-input-16-e05c806c0d6b>:12: FutureWarning: Passing a dictionary to SeriesGroupBy.agg is deprecated and will raise in a future version of pandas. Pass a list of aggregations instead.\n",
            "  enc_df = trn_x.groupby(f, as_index=False)['label'].agg({f + '_target_enc': 'mean'}) # calculate target encoding 针对每个feature key，计算在train中feature target的平均值，并将其作为encoded feature\n",
            "<ipython-input-16-e05c806c0d6b>:12: FutureWarning: Passing a dictionary to SeriesGroupBy.agg is deprecated and will raise in a future version of pandas. Pass a list of aggregations instead.\n",
            "  enc_df = trn_x.groupby(f, as_index=False)['label'].agg({f + '_target_enc': 'mean'}) # calculate target encoding 针对每个feature key，计算在train中feature target的平均值，并将其作为encoded feature\n",
            "<ipython-input-16-e05c806c0d6b>:12: FutureWarning: Passing a dictionary to SeriesGroupBy.agg is deprecated and will raise in a future version of pandas. Pass a list of aggregations instead.\n",
            "  enc_df = trn_x.groupby(f, as_index=False)['label'].agg({f + '_target_enc': 'mean'}) # calculate target encoding 针对每个feature key，计算在train中feature target的平均值，并将其作为encoded feature\n",
            " 79%|███████▉  | 23/29 [00:51<00:12,  2.07s/it]<ipython-input-16-e05c806c0d6b>:12: FutureWarning: Passing a dictionary to SeriesGroupBy.agg is deprecated and will raise in a future version of pandas. Pass a list of aggregations instead.\n",
            "  enc_df = trn_x.groupby(f, as_index=False)['label'].agg({f + '_target_enc': 'mean'}) # calculate target encoding 针对每个feature key，计算在train中feature target的平均值，并将其作为encoded feature\n",
            "<ipython-input-16-e05c806c0d6b>:15: FutureWarning: Setting an item of incompatible dtype is deprecated and will raise an error in a future version of pandas. Value '[0.01325969 0.01308948 0.01325969 ... 0.0117736  0.01325969 0.0117736 ]' has dtype incompatible with int64, please explicitly cast to a compatible dtype first.\n",
            "  train_df.loc[val_idx, f + '_target_enc'] = val_x[f + '_target_enc'].values\n",
            "<ipython-input-16-e05c806c0d6b>:12: FutureWarning: Passing a dictionary to SeriesGroupBy.agg is deprecated and will raise in a future version of pandas. Pass a list of aggregations instead.\n",
            "  enc_df = trn_x.groupby(f, as_index=False)['label'].agg({f + '_target_enc': 'mean'}) # calculate target encoding 针对每个feature key，计算在train中feature target的平均值，并将其作为encoded feature\n",
            "<ipython-input-16-e05c806c0d6b>:12: FutureWarning: Passing a dictionary to SeriesGroupBy.agg is deprecated and will raise in a future version of pandas. Pass a list of aggregations instead.\n",
            "  enc_df = trn_x.groupby(f, as_index=False)['label'].agg({f + '_target_enc': 'mean'}) # calculate target encoding 针对每个feature key，计算在train中feature target的平均值，并将其作为encoded feature\n",
            "<ipython-input-16-e05c806c0d6b>:12: FutureWarning: Passing a dictionary to SeriesGroupBy.agg is deprecated and will raise in a future version of pandas. Pass a list of aggregations instead.\n",
            "  enc_df = trn_x.groupby(f, as_index=False)['label'].agg({f + '_target_enc': 'mean'}) # calculate target encoding 针对每个feature key，计算在train中feature target的平均值，并将其作为encoded feature\n",
            "<ipython-input-16-e05c806c0d6b>:12: FutureWarning: Passing a dictionary to SeriesGroupBy.agg is deprecated and will raise in a future version of pandas. Pass a list of aggregations instead.\n",
            "  enc_df = trn_x.groupby(f, as_index=False)['label'].agg({f + '_target_enc': 'mean'}) # calculate target encoding 针对每个feature key，计算在train中feature target的平均值，并将其作为encoded feature\n",
            " 83%|████████▎ | 24/29 [00:53<00:11,  2.22s/it]<ipython-input-16-e05c806c0d6b>:12: FutureWarning: Passing a dictionary to SeriesGroupBy.agg is deprecated and will raise in a future version of pandas. Pass a list of aggregations instead.\n",
            "  enc_df = trn_x.groupby(f, as_index=False)['label'].agg({f + '_target_enc': 'mean'}) # calculate target encoding 针对每个feature key，计算在train中feature target的平均值，并将其作为encoded feature\n",
            "<ipython-input-16-e05c806c0d6b>:15: FutureWarning: Setting an item of incompatible dtype is deprecated and will raise an error in a future version of pandas. Value '[0.01385779 0.01385779 0.01411238 ... 0.0160022  0.01377472 0.01473839]' has dtype incompatible with int64, please explicitly cast to a compatible dtype first.\n",
            "  train_df.loc[val_idx, f + '_target_enc'] = val_x[f + '_target_enc'].values\n",
            "<ipython-input-16-e05c806c0d6b>:12: FutureWarning: Passing a dictionary to SeriesGroupBy.agg is deprecated and will raise in a future version of pandas. Pass a list of aggregations instead.\n",
            "  enc_df = trn_x.groupby(f, as_index=False)['label'].agg({f + '_target_enc': 'mean'}) # calculate target encoding 针对每个feature key，计算在train中feature target的平均值，并将其作为encoded feature\n",
            "<ipython-input-16-e05c806c0d6b>:12: FutureWarning: Passing a dictionary to SeriesGroupBy.agg is deprecated and will raise in a future version of pandas. Pass a list of aggregations instead.\n",
            "  enc_df = trn_x.groupby(f, as_index=False)['label'].agg({f + '_target_enc': 'mean'}) # calculate target encoding 针对每个feature key，计算在train中feature target的平均值，并将其作为encoded feature\n",
            "<ipython-input-16-e05c806c0d6b>:12: FutureWarning: Passing a dictionary to SeriesGroupBy.agg is deprecated and will raise in a future version of pandas. Pass a list of aggregations instead.\n",
            "  enc_df = trn_x.groupby(f, as_index=False)['label'].agg({f + '_target_enc': 'mean'}) # calculate target encoding 针对每个feature key，计算在train中feature target的平均值，并将其作为encoded feature\n",
            "<ipython-input-16-e05c806c0d6b>:12: FutureWarning: Passing a dictionary to SeriesGroupBy.agg is deprecated and will raise in a future version of pandas. Pass a list of aggregations instead.\n",
            "  enc_df = trn_x.groupby(f, as_index=False)['label'].agg({f + '_target_enc': 'mean'}) # calculate target encoding 针对每个feature key，计算在train中feature target的平均值，并将其作为encoded feature\n",
            " 86%|████████▌ | 25/29 [00:55<00:08,  2.15s/it]<ipython-input-16-e05c806c0d6b>:12: FutureWarning: Passing a dictionary to SeriesGroupBy.agg is deprecated and will raise in a future version of pandas. Pass a list of aggregations instead.\n",
            "  enc_df = trn_x.groupby(f, as_index=False)['label'].agg({f + '_target_enc': 'mean'}) # calculate target encoding 针对每个feature key，计算在train中feature target的平均值，并将其作为encoded feature\n",
            "<ipython-input-16-e05c806c0d6b>:15: FutureWarning: Setting an item of incompatible dtype is deprecated and will raise an error in a future version of pandas. Value '[0.         0.00869565 0.00497512 ... 0.         0.00819672 0.01984127]' has dtype incompatible with int64, please explicitly cast to a compatible dtype first.\n",
            "  train_df.loc[val_idx, f + '_target_enc'] = val_x[f + '_target_enc'].values\n",
            "<ipython-input-16-e05c806c0d6b>:12: FutureWarning: Passing a dictionary to SeriesGroupBy.agg is deprecated and will raise in a future version of pandas. Pass a list of aggregations instead.\n",
            "  enc_df = trn_x.groupby(f, as_index=False)['label'].agg({f + '_target_enc': 'mean'}) # calculate target encoding 针对每个feature key，计算在train中feature target的平均值，并将其作为encoded feature\n",
            "<ipython-input-16-e05c806c0d6b>:12: FutureWarning: Passing a dictionary to SeriesGroupBy.agg is deprecated and will raise in a future version of pandas. Pass a list of aggregations instead.\n",
            "  enc_df = trn_x.groupby(f, as_index=False)['label'].agg({f + '_target_enc': 'mean'}) # calculate target encoding 针对每个feature key，计算在train中feature target的平均值，并将其作为encoded feature\n",
            "<ipython-input-16-e05c806c0d6b>:12: FutureWarning: Passing a dictionary to SeriesGroupBy.agg is deprecated and will raise in a future version of pandas. Pass a list of aggregations instead.\n",
            "  enc_df = trn_x.groupby(f, as_index=False)['label'].agg({f + '_target_enc': 'mean'}) # calculate target encoding 针对每个feature key，计算在train中feature target的平均值，并将其作为encoded feature\n",
            "<ipython-input-16-e05c806c0d6b>:12: FutureWarning: Passing a dictionary to SeriesGroupBy.agg is deprecated and will raise in a future version of pandas. Pass a list of aggregations instead.\n",
            "  enc_df = trn_x.groupby(f, as_index=False)['label'].agg({f + '_target_enc': 'mean'}) # calculate target encoding 针对每个feature key，计算在train中feature target的平均值，并将其作为encoded feature\n",
            " 90%|████████▉ | 26/29 [00:58<00:06,  2.20s/it]<ipython-input-16-e05c806c0d6b>:12: FutureWarning: Passing a dictionary to SeriesGroupBy.agg is deprecated and will raise in a future version of pandas. Pass a list of aggregations instead.\n",
            "  enc_df = trn_x.groupby(f, as_index=False)['label'].agg({f + '_target_enc': 'mean'}) # calculate target encoding 针对每个feature key，计算在train中feature target的平均值，并将其作为encoded feature\n",
            "<ipython-input-16-e05c806c0d6b>:15: FutureWarning: Setting an item of incompatible dtype is deprecated and will raise an error in a future version of pandas. Value '[0.01396357 0.00804731 0.00688468 ... 0.07065785 0.00715456 0.00696235]' has dtype incompatible with int64, please explicitly cast to a compatible dtype first.\n",
            "  train_df.loc[val_idx, f + '_target_enc'] = val_x[f + '_target_enc'].values\n",
            "<ipython-input-16-e05c806c0d6b>:12: FutureWarning: Passing a dictionary to SeriesGroupBy.agg is deprecated and will raise in a future version of pandas. Pass a list of aggregations instead.\n",
            "  enc_df = trn_x.groupby(f, as_index=False)['label'].agg({f + '_target_enc': 'mean'}) # calculate target encoding 针对每个feature key，计算在train中feature target的平均值，并将其作为encoded feature\n",
            "<ipython-input-16-e05c806c0d6b>:12: FutureWarning: Passing a dictionary to SeriesGroupBy.agg is deprecated and will raise in a future version of pandas. Pass a list of aggregations instead.\n",
            "  enc_df = trn_x.groupby(f, as_index=False)['label'].agg({f + '_target_enc': 'mean'}) # calculate target encoding 针对每个feature key，计算在train中feature target的平均值，并将其作为encoded feature\n",
            "<ipython-input-16-e05c806c0d6b>:12: FutureWarning: Passing a dictionary to SeriesGroupBy.agg is deprecated and will raise in a future version of pandas. Pass a list of aggregations instead.\n",
            "  enc_df = trn_x.groupby(f, as_index=False)['label'].agg({f + '_target_enc': 'mean'}) # calculate target encoding 针对每个feature key，计算在train中feature target的平均值，并将其作为encoded feature\n",
            "<ipython-input-16-e05c806c0d6b>:12: FutureWarning: Passing a dictionary to SeriesGroupBy.agg is deprecated and will raise in a future version of pandas. Pass a list of aggregations instead.\n",
            "  enc_df = trn_x.groupby(f, as_index=False)['label'].agg({f + '_target_enc': 'mean'}) # calculate target encoding 针对每个feature key，计算在train中feature target的平均值，并将其作为encoded feature\n",
            " 93%|█████████▎| 27/29 [01:00<00:04,  2.13s/it]<ipython-input-16-e05c806c0d6b>:12: FutureWarning: Passing a dictionary to SeriesGroupBy.agg is deprecated and will raise in a future version of pandas. Pass a list of aggregations instead.\n",
            "  enc_df = trn_x.groupby(f, as_index=False)['label'].agg({f + '_target_enc': 'mean'}) # calculate target encoding 针对每个feature key，计算在train中feature target的平均值，并将其作为encoded feature\n",
            "<ipython-input-16-e05c806c0d6b>:15: FutureWarning: Setting an item of incompatible dtype is deprecated and will raise an error in a future version of pandas. Value '[0.01153783 0.01817203 0.01387865 ... 0.0146776  0.02244097 0.01953027]' has dtype incompatible with int64, please explicitly cast to a compatible dtype first.\n",
            "  train_df.loc[val_idx, f + '_target_enc'] = val_x[f + '_target_enc'].values\n",
            "<ipython-input-16-e05c806c0d6b>:12: FutureWarning: Passing a dictionary to SeriesGroupBy.agg is deprecated and will raise in a future version of pandas. Pass a list of aggregations instead.\n",
            "  enc_df = trn_x.groupby(f, as_index=False)['label'].agg({f + '_target_enc': 'mean'}) # calculate target encoding 针对每个feature key，计算在train中feature target的平均值，并将其作为encoded feature\n",
            "<ipython-input-16-e05c806c0d6b>:12: FutureWarning: Passing a dictionary to SeriesGroupBy.agg is deprecated and will raise in a future version of pandas. Pass a list of aggregations instead.\n",
            "  enc_df = trn_x.groupby(f, as_index=False)['label'].agg({f + '_target_enc': 'mean'}) # calculate target encoding 针对每个feature key，计算在train中feature target的平均值，并将其作为encoded feature\n",
            "<ipython-input-16-e05c806c0d6b>:12: FutureWarning: Passing a dictionary to SeriesGroupBy.agg is deprecated and will raise in a future version of pandas. Pass a list of aggregations instead.\n",
            "  enc_df = trn_x.groupby(f, as_index=False)['label'].agg({f + '_target_enc': 'mean'}) # calculate target encoding 针对每个feature key，计算在train中feature target的平均值，并将其作为encoded feature\n",
            "<ipython-input-16-e05c806c0d6b>:12: FutureWarning: Passing a dictionary to SeriesGroupBy.agg is deprecated and will raise in a future version of pandas. Pass a list of aggregations instead.\n",
            "  enc_df = trn_x.groupby(f, as_index=False)['label'].agg({f + '_target_enc': 'mean'}) # calculate target encoding 针对每个feature key，计算在train中feature target的平均值，并将其作为encoded feature\n",
            " 97%|█████████▋| 28/29 [01:02<00:02,  2.08s/it]<ipython-input-16-e05c806c0d6b>:12: FutureWarning: Passing a dictionary to SeriesGroupBy.agg is deprecated and will raise in a future version of pandas. Pass a list of aggregations instead.\n",
            "  enc_df = trn_x.groupby(f, as_index=False)['label'].agg({f + '_target_enc': 'mean'}) # calculate target encoding 针对每个feature key，计算在train中feature target的平均值，并将其作为encoded feature\n",
            "<ipython-input-16-e05c806c0d6b>:15: FutureWarning: Setting an item of incompatible dtype is deprecated and will raise an error in a future version of pandas. Value '[0.02584273 0.02584273 0.00173684 ... 0.03085904 0.02159555 0.00173684]' has dtype incompatible with int64, please explicitly cast to a compatible dtype first.\n",
            "  train_df.loc[val_idx, f + '_target_enc'] = val_x[f + '_target_enc'].values\n",
            "<ipython-input-16-e05c806c0d6b>:12: FutureWarning: Passing a dictionary to SeriesGroupBy.agg is deprecated and will raise in a future version of pandas. Pass a list of aggregations instead.\n",
            "  enc_df = trn_x.groupby(f, as_index=False)['label'].agg({f + '_target_enc': 'mean'}) # calculate target encoding 针对每个feature key，计算在train中feature target的平均值，并将其作为encoded feature\n",
            "<ipython-input-16-e05c806c0d6b>:12: FutureWarning: Passing a dictionary to SeriesGroupBy.agg is deprecated and will raise in a future version of pandas. Pass a list of aggregations instead.\n",
            "  enc_df = trn_x.groupby(f, as_index=False)['label'].agg({f + '_target_enc': 'mean'}) # calculate target encoding 针对每个feature key，计算在train中feature target的平均值，并将其作为encoded feature\n",
            "<ipython-input-16-e05c806c0d6b>:12: FutureWarning: Passing a dictionary to SeriesGroupBy.agg is deprecated and will raise in a future version of pandas. Pass a list of aggregations instead.\n",
            "  enc_df = trn_x.groupby(f, as_index=False)['label'].agg({f + '_target_enc': 'mean'}) # calculate target encoding 针对每个feature key，计算在train中feature target的平均值，并将其作为encoded feature\n",
            "<ipython-input-16-e05c806c0d6b>:12: FutureWarning: Passing a dictionary to SeriesGroupBy.agg is deprecated and will raise in a future version of pandas. Pass a list of aggregations instead.\n",
            "  enc_df = trn_x.groupby(f, as_index=False)['label'].agg({f + '_target_enc': 'mean'}) # calculate target encoding 针对每个feature key，计算在train中feature target的平均值，并将其作为encoded feature\n",
            "100%|██████████| 29/29 [01:03<00:00,  2.21s/it]\n"
          ]
        }
      ],
      "source": [
        "# use cross validation in encoding to avoid bias and overfitting\n",
        "from sklearn.model_selection import StratifiedKFold\n",
        "skf = StratifiedKFold(n_splits=5, shuffle=True, random_state=12345)\n",
        "enc_list = group_list + ['net_type', 'task_id', 'adv_id','adv_prim_id', 'age', 'app_second_class', 'city','user_id',\n",
        "                         'user_id_count', 'device_name', 'slot_id']\n",
        "for f in tqdm(enc_list):\n",
        "  # initialize to state = 0\n",
        "  train_df[f + '_target_enc'] = 0\n",
        "  for i, (trn_idx, val_idx) in enumerate(skf.split(train_df, train_df['label'])):\n",
        "    trn_x = train_df[[f, 'label']].iloc[trn_idx].reset_index(drop=True) # train column 'label'\n",
        "    val_x = train_df[[f]].iloc[val_idx].reset_index(drop=True) # feature columns\n",
        "    enc_df = trn_x.groupby(f, as_index=False)['label'].agg({f + '_target_enc': 'mean'}) # calculate target encoding 针对每个feature key，计算在train中feature target的平均值，并将其作为encoded feature\n",
        "    val_x = val_x.merge(enc_df, on=f, how='left')\n",
        "    val_x[f + '_target_enc'] = val_x[f + '_target_enc'].fillna(train_df['label'].mean())\n",
        "    train_df.loc[val_idx, f + '_target_enc'] = val_x[f + '_target_enc'].values"
      ]
    },
    {
      "cell_type": "code",
      "execution_count": null,
      "metadata": {
        "colab": {
          "base_uri": "https://localhost:8080/"
        },
        "id": "hy1cyeAcZHs3",
        "outputId": "f40f58a2-5df7-4b80-e468-a574f7964ad3"
      },
      "outputs": [
        {
          "data": {
            "text/plain": [
              "(3837758, 95)"
            ]
          },
          "execution_count": 17,
          "metadata": {},
          "output_type": "execute_result"
        }
      ],
      "source": [
        "train_df.shape"
      ]
    },
    {
      "cell_type": "code",
      "execution_count": null,
      "metadata": {
        "colab": {
          "base_uri": "https://localhost:8080/"
        },
        "id": "IoxXTGTaZxON",
        "outputId": "89f94cc6-4dbb-4eda-ce8f-cab075df8570"
      },
      "outputs": [
        {
          "name": "stdout",
          "output_type": "stream",
          "text": [
            "Mounted at /content/drive\n"
          ]
        },
        {
          "name": "stderr",
          "output_type": "stream",
          "text": [
            "Exporting CSV:  99%|█████████▉| 1908236/1918879 [1:00:48<00:17, 602.26it/s]"
          ]
        }
      ],
      "source": [
        "from google.colab import drive\n",
        "drive.mount('/content/drive')\n",
        "\n",
        "file_path = '/content/drive/My Drive/train_data_2022_processed.csv'\n",
        "\n",
        "chunk_size = 2  # You can adjust the chunk size as needed\n",
        "\n",
        "# num of chunks\n",
        "num_chunks = len(train_df) // chunk_size + (1 if len(train_df) % chunk_size > 0 else 0)\n",
        "\n",
        "# export CSV in chunks with progress bar\n",
        "with open(file_path, 'w') as f:\n",
        "    for i, chunk in enumerate(tqdm(range(0, len(train_df), chunk_size), total=num_chunks, desc=\"Exporting CSV\")):\n",
        "        train_df.iloc[chunk:chunk + chunk_size].to_csv(f, header=(i == 0), index=False)"
      ]
    },
    {
      "cell_type": "code",
      "execution_count": null,
      "metadata": {
        "colab": {
          "base_uri": "https://localhost:8080/"
        },
        "id": "hveKdbAiZCO5",
        "outputId": "da3bb90a-78dc-40a8-b7cc-783dfa9c41dd"
      },
      "outputs": [
        {
          "name": "stdout",
          "output_type": "stream",
          "text": [
            "  product  sales\n",
            "0       A      2\n",
            "1       B      1\n",
            "2       C      1\n"
          ]
        },
        {
          "name": "stderr",
          "output_type": "stream",
          "text": [
            "<ipython-input-20-60bcf6099290>:10: FutureWarning: Passing a dictionary to SeriesGroupBy.agg is deprecated and will raise in a future version of pandas. Pass a list of aggregations instead.\n",
            "  grouped = df.groupby('product', as_index = False)['my_value'].agg({'sales': 'nunique'})\n"
          ]
        }
      ],
      "source": [
        "# Sample DataFrame for nunique\n",
        "data = {\n",
        "    'product': ['A', 'A', 'B', 'B', 'B', 'C'],\n",
        "    'sales': [100, 100, 200, 250, 300, 400],\n",
        "    'my_value':[1,2,1,1,1,40]\n",
        "}\n",
        "df = pd.DataFrame(data)\n",
        "\n",
        "# Group by 'product' and aggregate with sum\n",
        "grouped = df.groupby('product', as_index = False)['my_value'].agg({'sales': 'nunique'})\n",
        "print(grouped)\n",
        "del df"
      ]
    },
    {
      "cell_type": "code",
      "execution_count": null,
      "metadata": {
        "colab": {
          "base_uri": "https://localhost:8080/",
          "height": 263
        },
        "id": "i6dXu4zJeNsV",
        "outputId": "ca7e5cef-9840-48e1-edb5-f2334b07efed"
      },
      "outputs": [
        {
          "data": {
            "application/vnd.google.colaboratory.intrinsic+json": {
              "type": "dataframe",
              "variable_name": "train_df"
            },
            "text/html": [
              "\n",
              "  <div id=\"df-e6dab730-5aef-4580-bacd-e1b00e439edf\" class=\"colab-df-container\">\n",
              "    <div>\n",
              "<style scoped>\n",
              "    .dataframe tbody tr th:only-of-type {\n",
              "        vertical-align: middle;\n",
              "    }\n",
              "\n",
              "    .dataframe tbody tr th {\n",
              "        vertical-align: top;\n",
              "    }\n",
              "\n",
              "    .dataframe thead th {\n",
              "        text-align: right;\n",
              "    }\n",
              "</style>\n",
              "<table border=\"1\" class=\"dataframe\">\n",
              "  <thead>\n",
              "    <tr style=\"text-align: right;\">\n",
              "      <th></th>\n",
              "      <th>log_id</th>\n",
              "      <th>label</th>\n",
              "      <th>user_id</th>\n",
              "      <th>age</th>\n",
              "      <th>gender</th>\n",
              "      <th>residence</th>\n",
              "      <th>city</th>\n",
              "      <th>city_rank</th>\n",
              "      <th>series_dev</th>\n",
              "      <th>series_group</th>\n",
              "      <th>...</th>\n",
              "      <th>task_id_target_enc</th>\n",
              "      <th>adv_id_target_enc</th>\n",
              "      <th>adv_prim_id_target_enc</th>\n",
              "      <th>age_target_enc</th>\n",
              "      <th>app_second_class_target_enc</th>\n",
              "      <th>city_target_enc</th>\n",
              "      <th>user_id_target_enc</th>\n",
              "      <th>user_id_count_target_enc</th>\n",
              "      <th>device_name_target_enc</th>\n",
              "      <th>slot_id_target_enc</th>\n",
              "    </tr>\n",
              "  </thead>\n",
              "  <tbody>\n",
              "    <tr>\n",
              "      <th>0</th>\n",
              "      <td>219268</td>\n",
              "      <td>0</td>\n",
              "      <td>158957</td>\n",
              "      <td>5</td>\n",
              "      <td>2</td>\n",
              "      <td>13</td>\n",
              "      <td>150</td>\n",
              "      <td>2</td>\n",
              "      <td>21</td>\n",
              "      <td>4</td>\n",
              "      <td>...</td>\n",
              "      <td>0.037037</td>\n",
              "      <td>0.037037</td>\n",
              "      <td>0.013694</td>\n",
              "      <td>0.026429</td>\n",
              "      <td>0.013049</td>\n",
              "      <td>0.015445</td>\n",
              "      <td>0.008065</td>\n",
              "      <td>0.008477</td>\n",
              "      <td>0.015471</td>\n",
              "      <td>0.018517</td>\n",
              "    </tr>\n",
              "    <tr>\n",
              "      <th>1</th>\n",
              "      <td>424831</td>\n",
              "      <td>0</td>\n",
              "      <td>173145</td>\n",
              "      <td>6</td>\n",
              "      <td>4</td>\n",
              "      <td>33</td>\n",
              "      <td>319</td>\n",
              "      <td>3</td>\n",
              "      <td>27</td>\n",
              "      <td>2</td>\n",
              "      <td>...</td>\n",
              "      <td>0.012435</td>\n",
              "      <td>0.012435</td>\n",
              "      <td>0.011407</td>\n",
              "      <td>0.012597</td>\n",
              "      <td>0.013543</td>\n",
              "      <td>0.013804</td>\n",
              "      <td>0.000000</td>\n",
              "      <td>0.008542</td>\n",
              "      <td>0.013405</td>\n",
              "      <td>0.030955</td>\n",
              "    </tr>\n",
              "    <tr>\n",
              "      <th>2</th>\n",
              "      <td>57651</td>\n",
              "      <td>0</td>\n",
              "      <td>141784</td>\n",
              "      <td>3</td>\n",
              "      <td>2</td>\n",
              "      <td>20</td>\n",
              "      <td>170</td>\n",
              "      <td>4</td>\n",
              "      <td>32</td>\n",
              "      <td>6</td>\n",
              "      <td>...</td>\n",
              "      <td>0.020668</td>\n",
              "      <td>0.020668</td>\n",
              "      <td>0.027552</td>\n",
              "      <td>0.017194</td>\n",
              "      <td>0.022755</td>\n",
              "      <td>0.014087</td>\n",
              "      <td>0.000000</td>\n",
              "      <td>0.006138</td>\n",
              "      <td>0.019927</td>\n",
              "      <td>0.036339</td>\n",
              "    </tr>\n",
              "    <tr>\n",
              "      <th>3</th>\n",
              "      <td>1026944</td>\n",
              "      <td>0</td>\n",
              "      <td>225669</td>\n",
              "      <td>3</td>\n",
              "      <td>2</td>\n",
              "      <td>34</td>\n",
              "      <td>187</td>\n",
              "      <td>2</td>\n",
              "      <td>16</td>\n",
              "      <td>5</td>\n",
              "      <td>...</td>\n",
              "      <td>0.010000</td>\n",
              "      <td>0.010000</td>\n",
              "      <td>0.009121</td>\n",
              "      <td>0.017262</td>\n",
              "      <td>0.013146</td>\n",
              "      <td>0.016212</td>\n",
              "      <td>0.027027</td>\n",
              "      <td>0.017914</td>\n",
              "      <td>0.013569</td>\n",
              "      <td>0.019442</td>\n",
              "    </tr>\n",
              "    <tr>\n",
              "      <th>4</th>\n",
              "      <td>355613</td>\n",
              "      <td>0</td>\n",
              "      <td>160800</td>\n",
              "      <td>8</td>\n",
              "      <td>2</td>\n",
              "      <td>18</td>\n",
              "      <td>417</td>\n",
              "      <td>2</td>\n",
              "      <td>32</td>\n",
              "      <td>6</td>\n",
              "      <td>...</td>\n",
              "      <td>0.021254</td>\n",
              "      <td>0.021254</td>\n",
              "      <td>0.013815</td>\n",
              "      <td>0.011909</td>\n",
              "      <td>0.011549</td>\n",
              "      <td>0.015694</td>\n",
              "      <td>0.050000</td>\n",
              "      <td>0.032626</td>\n",
              "      <td>0.018483</td>\n",
              "      <td>0.008034</td>\n",
              "    </tr>\n",
              "  </tbody>\n",
              "</table>\n",
              "<p>5 rows × 95 columns</p>\n",
              "</div>\n",
              "    <div class=\"colab-df-buttons\">\n",
              "\n",
              "  <div class=\"colab-df-container\">\n",
              "    <button class=\"colab-df-convert\" onclick=\"convertToInteractive('df-e6dab730-5aef-4580-bacd-e1b00e439edf')\"\n",
              "            title=\"Convert this dataframe to an interactive table.\"\n",
              "            style=\"display:none;\">\n",
              "\n",
              "  <svg xmlns=\"http://www.w3.org/2000/svg\" height=\"24px\" viewBox=\"0 -960 960 960\">\n",
              "    <path d=\"M120-120v-720h720v720H120Zm60-500h600v-160H180v160Zm220 220h160v-160H400v160Zm0 220h160v-160H400v160ZM180-400h160v-160H180v160Zm440 0h160v-160H620v160ZM180-180h160v-160H180v160Zm440 0h160v-160H620v160Z\"/>\n",
              "  </svg>\n",
              "    </button>\n",
              "\n",
              "  <style>\n",
              "    .colab-df-container {\n",
              "      display:flex;\n",
              "      gap: 12px;\n",
              "    }\n",
              "\n",
              "    .colab-df-convert {\n",
              "      background-color: #E8F0FE;\n",
              "      border: none;\n",
              "      border-radius: 50%;\n",
              "      cursor: pointer;\n",
              "      display: none;\n",
              "      fill: #1967D2;\n",
              "      height: 32px;\n",
              "      padding: 0 0 0 0;\n",
              "      width: 32px;\n",
              "    }\n",
              "\n",
              "    .colab-df-convert:hover {\n",
              "      background-color: #E2EBFA;\n",
              "      box-shadow: 0px 1px 2px rgba(60, 64, 67, 0.3), 0px 1px 3px 1px rgba(60, 64, 67, 0.15);\n",
              "      fill: #174EA6;\n",
              "    }\n",
              "\n",
              "    .colab-df-buttons div {\n",
              "      margin-bottom: 4px;\n",
              "    }\n",
              "\n",
              "    [theme=dark] .colab-df-convert {\n",
              "      background-color: #3B4455;\n",
              "      fill: #D2E3FC;\n",
              "    }\n",
              "\n",
              "    [theme=dark] .colab-df-convert:hover {\n",
              "      background-color: #434B5C;\n",
              "      box-shadow: 0px 1px 3px 1px rgba(0, 0, 0, 0.15);\n",
              "      filter: drop-shadow(0px 1px 2px rgba(0, 0, 0, 0.3));\n",
              "      fill: #FFFFFF;\n",
              "    }\n",
              "  </style>\n",
              "\n",
              "    <script>\n",
              "      const buttonEl =\n",
              "        document.querySelector('#df-e6dab730-5aef-4580-bacd-e1b00e439edf button.colab-df-convert');\n",
              "      buttonEl.style.display =\n",
              "        google.colab.kernel.accessAllowed ? 'block' : 'none';\n",
              "\n",
              "      async function convertToInteractive(key) {\n",
              "        const element = document.querySelector('#df-e6dab730-5aef-4580-bacd-e1b00e439edf');\n",
              "        const dataTable =\n",
              "          await google.colab.kernel.invokeFunction('convertToInteractive',\n",
              "                                                    [key], {});\n",
              "        if (!dataTable) return;\n",
              "\n",
              "        const docLinkHtml = 'Like what you see? Visit the ' +\n",
              "          '<a target=\"_blank\" href=https://colab.research.google.com/notebooks/data_table.ipynb>data table notebook</a>'\n",
              "          + ' to learn more about interactive tables.';\n",
              "        element.innerHTML = '';\n",
              "        dataTable['output_type'] = 'display_data';\n",
              "        await google.colab.output.renderOutput(dataTable, element);\n",
              "        const docLink = document.createElement('div');\n",
              "        docLink.innerHTML = docLinkHtml;\n",
              "        element.appendChild(docLink);\n",
              "      }\n",
              "    </script>\n",
              "  </div>\n",
              "\n",
              "\n",
              "<div id=\"df-93478499-2634-44f9-adcd-1abbbec25593\">\n",
              "  <button class=\"colab-df-quickchart\" onclick=\"quickchart('df-93478499-2634-44f9-adcd-1abbbec25593')\"\n",
              "            title=\"Suggest charts\"\n",
              "            style=\"display:none;\">\n",
              "\n",
              "<svg xmlns=\"http://www.w3.org/2000/svg\" height=\"24px\"viewBox=\"0 0 24 24\"\n",
              "     width=\"24px\">\n",
              "    <g>\n",
              "        <path d=\"M19 3H5c-1.1 0-2 .9-2 2v14c0 1.1.9 2 2 2h14c1.1 0 2-.9 2-2V5c0-1.1-.9-2-2-2zM9 17H7v-7h2v7zm4 0h-2V7h2v10zm4 0h-2v-4h2v4z\"/>\n",
              "    </g>\n",
              "</svg>\n",
              "  </button>\n",
              "\n",
              "<style>\n",
              "  .colab-df-quickchart {\n",
              "      --bg-color: #E8F0FE;\n",
              "      --fill-color: #1967D2;\n",
              "      --hover-bg-color: #E2EBFA;\n",
              "      --hover-fill-color: #174EA6;\n",
              "      --disabled-fill-color: #AAA;\n",
              "      --disabled-bg-color: #DDD;\n",
              "  }\n",
              "\n",
              "  [theme=dark] .colab-df-quickchart {\n",
              "      --bg-color: #3B4455;\n",
              "      --fill-color: #D2E3FC;\n",
              "      --hover-bg-color: #434B5C;\n",
              "      --hover-fill-color: #FFFFFF;\n",
              "      --disabled-bg-color: #3B4455;\n",
              "      --disabled-fill-color: #666;\n",
              "  }\n",
              "\n",
              "  .colab-df-quickchart {\n",
              "    background-color: var(--bg-color);\n",
              "    border: none;\n",
              "    border-radius: 50%;\n",
              "    cursor: pointer;\n",
              "    display: none;\n",
              "    fill: var(--fill-color);\n",
              "    height: 32px;\n",
              "    padding: 0;\n",
              "    width: 32px;\n",
              "  }\n",
              "\n",
              "  .colab-df-quickchart:hover {\n",
              "    background-color: var(--hover-bg-color);\n",
              "    box-shadow: 0 1px 2px rgba(60, 64, 67, 0.3), 0 1px 3px 1px rgba(60, 64, 67, 0.15);\n",
              "    fill: var(--button-hover-fill-color);\n",
              "  }\n",
              "\n",
              "  .colab-df-quickchart-complete:disabled,\n",
              "  .colab-df-quickchart-complete:disabled:hover {\n",
              "    background-color: var(--disabled-bg-color);\n",
              "    fill: var(--disabled-fill-color);\n",
              "    box-shadow: none;\n",
              "  }\n",
              "\n",
              "  .colab-df-spinner {\n",
              "    border: 2px solid var(--fill-color);\n",
              "    border-color: transparent;\n",
              "    border-bottom-color: var(--fill-color);\n",
              "    animation:\n",
              "      spin 1s steps(1) infinite;\n",
              "  }\n",
              "\n",
              "  @keyframes spin {\n",
              "    0% {\n",
              "      border-color: transparent;\n",
              "      border-bottom-color: var(--fill-color);\n",
              "      border-left-color: var(--fill-color);\n",
              "    }\n",
              "    20% {\n",
              "      border-color: transparent;\n",
              "      border-left-color: var(--fill-color);\n",
              "      border-top-color: var(--fill-color);\n",
              "    }\n",
              "    30% {\n",
              "      border-color: transparent;\n",
              "      border-left-color: var(--fill-color);\n",
              "      border-top-color: var(--fill-color);\n",
              "      border-right-color: var(--fill-color);\n",
              "    }\n",
              "    40% {\n",
              "      border-color: transparent;\n",
              "      border-right-color: var(--fill-color);\n",
              "      border-top-color: var(--fill-color);\n",
              "    }\n",
              "    60% {\n",
              "      border-color: transparent;\n",
              "      border-right-color: var(--fill-color);\n",
              "    }\n",
              "    80% {\n",
              "      border-color: transparent;\n",
              "      border-right-color: var(--fill-color);\n",
              "      border-bottom-color: var(--fill-color);\n",
              "    }\n",
              "    90% {\n",
              "      border-color: transparent;\n",
              "      border-bottom-color: var(--fill-color);\n",
              "    }\n",
              "  }\n",
              "</style>\n",
              "\n",
              "  <script>\n",
              "    async function quickchart(key) {\n",
              "      const quickchartButtonEl =\n",
              "        document.querySelector('#' + key + ' button');\n",
              "      quickchartButtonEl.disabled = true;  // To prevent multiple clicks.\n",
              "      quickchartButtonEl.classList.add('colab-df-spinner');\n",
              "      try {\n",
              "        const charts = await google.colab.kernel.invokeFunction(\n",
              "            'suggestCharts', [key], {});\n",
              "      } catch (error) {\n",
              "        console.error('Error during call to suggestCharts:', error);\n",
              "      }\n",
              "      quickchartButtonEl.classList.remove('colab-df-spinner');\n",
              "      quickchartButtonEl.classList.add('colab-df-quickchart-complete');\n",
              "    }\n",
              "    (() => {\n",
              "      let quickchartButtonEl =\n",
              "        document.querySelector('#df-93478499-2634-44f9-adcd-1abbbec25593 button');\n",
              "      quickchartButtonEl.style.display =\n",
              "        google.colab.kernel.accessAllowed ? 'block' : 'none';\n",
              "    })();\n",
              "  </script>\n",
              "</div>\n",
              "\n",
              "    </div>\n",
              "  </div>\n"
            ],
            "text/plain": [
              "    log_id  label  user_id  age  gender  residence  city  city_rank  \\\n",
              "0   219268      0   158957    5       2         13   150          2   \n",
              "1   424831      0   173145    6       4         33   319          3   \n",
              "2    57651      0   141784    3       2         20   170          4   \n",
              "3  1026944      0   225669    3       2         34   187          2   \n",
              "4   355613      0   160800    8       2         18   417          2   \n",
              "\n",
              "   series_dev  series_group  ...  task_id_target_enc  adv_id_target_enc  \\\n",
              "0          21             4  ...            0.037037           0.037037   \n",
              "1          27             2  ...            0.012435           0.012435   \n",
              "2          32             6  ...            0.020668           0.020668   \n",
              "3          16             5  ...            0.010000           0.010000   \n",
              "4          32             6  ...            0.021254           0.021254   \n",
              "\n",
              "   adv_prim_id_target_enc  age_target_enc  app_second_class_target_enc  \\\n",
              "0                0.013694        0.026429                     0.013049   \n",
              "1                0.011407        0.012597                     0.013543   \n",
              "2                0.027552        0.017194                     0.022755   \n",
              "3                0.009121        0.017262                     0.013146   \n",
              "4                0.013815        0.011909                     0.011549   \n",
              "\n",
              "   city_target_enc  user_id_target_enc  user_id_count_target_enc  \\\n",
              "0         0.015445            0.008065                  0.008477   \n",
              "1         0.013804            0.000000                  0.008542   \n",
              "2         0.014087            0.000000                  0.006138   \n",
              "3         0.016212            0.027027                  0.017914   \n",
              "4         0.015694            0.050000                  0.032626   \n",
              "\n",
              "   device_name_target_enc  slot_id_target_enc  \n",
              "0                0.015471            0.018517  \n",
              "1                0.013405            0.030955  \n",
              "2                0.019927            0.036339  \n",
              "3                0.013569            0.019442  \n",
              "4                0.018483            0.008034  \n",
              "\n",
              "[5 rows x 95 columns]"
            ]
          },
          "execution_count": 22,
          "metadata": {},
          "output_type": "execute_result"
        },
        {
          "name": "stdout",
          "output_type": "stream",
          "text": [
            "Warning: Total number of columns (95) exceeds max_columns (20) limiting to first (20) columns.\n"
          ]
        }
      ],
      "source": [
        "train_df.head()"
      ]
    }
  ],
  "metadata": {
    "colab": {
      "provenance": []
    },
    "kernelspec": {
      "display_name": "Python 3",
      "name": "python3"
    },
    "language_info": {
      "name": "python"
    }
  },
  "nbformat": 4,
  "nbformat_minor": 0
}
