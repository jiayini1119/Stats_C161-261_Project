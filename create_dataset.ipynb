{
 "cells": [
  {
   "cell_type": "markdown",
   "metadata": {},
   "source": [
    "### Load the dataset"
   ]
  },
  {
   "cell_type": "code",
   "execution_count": 15,
   "metadata": {},
   "outputs": [
    {
     "name": "stderr",
     "output_type": "stream",
     "text": [
      "4it [00:35,  8.98s/it]"
     ]
    },
    {
     "name": "stdout",
     "output_type": "stream",
     "text": [
      "label\n",
      "0    3778299\n",
      "1      59459\n",
      "Name: count, dtype: int64\n",
      "(3837758, 95)\n"
     ]
    },
    {
     "name": "stderr",
     "output_type": "stream",
     "text": [
      "\n"
     ]
    }
   ],
   "source": [
    "from load_dataset import load_dataset\n",
    "df = load_dataset(file_path=\"/Users/nijiayi/Stats_C161-261_Project/train_data_2022_processed.csv\") # Enter the file path here\n",
    "label_counts = df[\"label\"].value_counts()\n",
    "print(label_counts)\n",
    "print(df.shape)"
   ]
  },
  {
   "cell_type": "markdown",
   "metadata": {},
   "source": [
    "### Split the dataset"
   ]
  },
  {
   "cell_type": "code",
   "execution_count": 16,
   "metadata": {},
   "outputs": [],
   "source": [
    "import pandas as pd\n",
    "\n",
    "# Separate the data based on the label\n",
    "df_label_1 = df[df[\"label\"] == 1]\n",
    "df_label_0 = df[df[\"label\"] == 0]\n",
    "\n",
    "# Sample 20% of each label class for the test set\n",
    "df_label_1_test = df_label_1.sample(frac=0.2, random_state=123)\n",
    "df_label_0_test = df_label_0.sample(n=len(df_label_1_test), random_state=123)  # Match the size of label=1\n",
    "\n",
    "# Combine the test data\n",
    "test_data = pd.concat([df_label_1_test, df_label_0_test])\n",
    "\n",
    "# The rest goes to the training set\n",
    "df_label_1_train = df_label_1.drop(df_label_1_test.index)\n",
    "df_label_0_train = df_label_0.drop(df_label_0_test.index)\n",
    "\n",
    "# Combine the training data\n",
    "train_data = pd.concat([df_label_1_train, df_label_0_train])\n",
    "\n",
    "# Separate features and labels for train and test sets\n",
    "X_train = train_data.drop(columns=[\"label\"])\n",
    "y_train = train_data[\"label\"]\n",
    "\n",
    "X_test = test_data.drop(columns=[\"label\"])\n",
    "y_test = test_data[\"label\"]\n",
    "# # Save the train and test datasets\n",
    "# train_data.to_csv(\"train.csv\", index=False)\n",
    "# test_data.to_csv(\"test.csv\", index=False)"
   ]
  },
  {
   "cell_type": "code",
   "execution_count": 17,
   "metadata": {},
   "outputs": [
    {
     "data": {
      "text/plain": [
       "((3813974, 94), (3813974,), (23784, 94), (23784,))"
      ]
     },
     "execution_count": 17,
     "metadata": {},
     "output_type": "execute_result"
    }
   ],
   "source": [
    "X_train.shape, y_train.shape, X_test.shape, y_test.shape"
   ]
  },
  {
   "cell_type": "markdown",
   "metadata": {},
   "source": [
    "### Do Feature Selection on the Balanced Train Dataset"
   ]
  },
  {
   "cell_type": "code",
   "execution_count": 18,
   "metadata": {},
   "outputs": [
    {
     "name": "stderr",
     "output_type": "stream",
     "text": [
      "100%|██████████| 1/1 [00:03<00:00,  3.08s/it]\n"
     ]
    }
   ],
   "source": [
    "from load_dataset import balanced_dataset_downsampling\n",
    "balanced_train_data_downsampling =  balanced_dataset_downsampling(train_data)"
   ]
  },
  {
   "cell_type": "code",
   "execution_count": 19,
   "metadata": {},
   "outputs": [
    {
     "data": {
      "text/plain": [
       "(95134, 95)"
      ]
     },
     "execution_count": 19,
     "metadata": {},
     "output_type": "execute_result"
    }
   ],
   "source": [
    "balanced_train_data_downsampling.shape"
   ]
  },
  {
   "cell_type": "code",
   "execution_count": 20,
   "metadata": {},
   "outputs": [
    {
     "name": "stdout",
     "output_type": "stream",
     "text": [
      "Lasso Regression Mean Squared Error: 0.18963846913488236\n",
      "Lasso Coefficients: [-1.23254319e-09  1.45101148e-08 -0.00000000e+00  0.00000000e+00\n",
      "  0.00000000e+00  2.46893911e-05 -0.00000000e+00  6.47715128e-04\n",
      "  0.00000000e+00  8.79704451e-05  2.64038078e-05 -1.93812223e-05\n",
      "  4.24160661e-03 -2.45159946e-07  8.07960614e-07 -2.75289744e-02\n",
      "  1.43730406e-07 -0.00000000e+00 -5.02912844e-04  0.00000000e+00\n",
      " -8.69997086e-05 -0.00000000e+00  1.21307097e-03 -0.00000000e+00\n",
      " -8.59543908e-08 -1.03267441e-02 -7.57267808e-03  0.00000000e+00\n",
      "  1.71712015e-04 -7.30322832e-09 -4.62059314e-09  1.82276541e-08\n",
      " -5.43350483e-08  1.44876109e-08 -4.94210320e-08  4.51507751e-08\n",
      " -2.96474525e-07  9.49050719e-09  3.54516828e-06 -3.99604807e-06\n",
      "  5.90043348e-08  1.69495881e-07  8.12617915e-09 -3.44539259e-07\n",
      " -8.23878728e-08 -1.74174511e-08  3.07638979e-08 -2.01377694e-03\n",
      " -0.00000000e+00  3.60782482e-05 -1.35674070e-02  0.00000000e+00\n",
      " -6.91900944e-03 -1.35069073e-04  1.15002384e-04  0.00000000e+00\n",
      "  0.00000000e+00  0.00000000e+00  0.00000000e+00  5.15518764e-06\n",
      "  6.27032426e-07  0.00000000e+00 -0.00000000e+00  0.00000000e+00\n",
      " -0.00000000e+00  0.00000000e+00  0.00000000e+00  0.00000000e+00\n",
      "  0.00000000e+00  0.00000000e+00  0.00000000e+00  0.00000000e+00\n",
      "  0.00000000e+00  0.00000000e+00  0.00000000e+00  0.00000000e+00\n",
      "  0.00000000e+00  0.00000000e+00  0.00000000e+00  0.00000000e+00\n",
      "  0.00000000e+00  0.00000000e+00  0.00000000e+00  0.00000000e+00\n",
      "  0.00000000e+00  0.00000000e+00  0.00000000e+00  0.00000000e+00\n",
      "  0.00000000e+00  0.00000000e+00  0.00000000e+00  0.00000000e+00\n",
      "  0.00000000e+00  0.00000000e+00]\n"
     ]
    },
    {
     "name": "stderr",
     "output_type": "stream",
     "text": [
      "/Users/nijiayi/miniconda3/lib/python3.10/site-packages/sklearn/linear_model/_coordinate_descent.py:631: ConvergenceWarning: Objective did not converge. You might want to increase the number of iterations, check the scale of the features or consider increasing regularisation. Duality gap: 9.070e+03, tolerance: 2.378e+00\n",
      "  model = cd_fast.enet_coordinate_descent(\n"
     ]
    }
   ],
   "source": [
    "from sklearn.linear_model import Lasso\n",
    "from sklearn.metrics import mean_squared_error\n",
    "\n",
    "X_train = balanced_train_data_downsampling.drop(columns=[\"label\"])\n",
    "y_train = balanced_train_data_downsampling[\"label\"]\n",
    "\n",
    "lasso = Lasso(alpha=0.01)\n",
    "lasso.fit(X_train, y_train)\n",
    "\n",
    "# Make predictions and calculate performance\n",
    "y_pred = lasso.predict(X_test)\n",
    "print(\"Lasso Regression Mean Squared Error:\", mean_squared_error(y_test, y_pred))\n",
    "\n",
    "# Lasso coefficients (note that some may be zero)\n",
    "print(\"Lasso Coefficients:\", lasso.coef_)"
   ]
  },
  {
   "cell_type": "code",
   "execution_count": 21,
   "metadata": {},
   "outputs": [
    {
     "name": "stdout",
     "output_type": "stream",
     "text": [
      "Important Features and their Coefficients:\n",
      "Feature: log_id, Coefficient: -1.2325431936886553e-09\n",
      "Feature: user_id, Coefficient: 1.4510114821132684e-08\n",
      "Feature: city, Coefficient: 2.4689391063937872e-05\n",
      "Feature: series_dev, Coefficient: 0.0006477151275460204\n",
      "Feature: emui_dev, Coefficient: 8.797044509093144e-05\n",
      "Feature: device_name, Coefficient: 2.6403807767637695e-05\n",
      "Feature: device_size, Coefficient: -1.9381222275957886e-05\n",
      "Feature: net_type, Coefficient: 0.004241606611311779\n",
      "Feature: task_id, Coefficient: -2.4515994552600414e-07\n",
      "Feature: adv_id, Coefficient: 8.079606137143922e-07\n",
      "Feature: creat_type_cd, Coefficient: -0.027528974402925774\n",
      "Feature: adv_prim_id, Coefficient: 1.4373040587943518e-07\n",
      "Feature: slot_id, Coefficient: -0.0005029128437436971\n",
      "Feature: spread_app_id, Coefficient: -8.699970860354822e-05\n",
      "Feature: app_second_class, Coefficient: 0.0012130709714165203\n",
      "Feature: pt_d, Coefficient: -8.59543907918367e-08\n",
      "Feature: u_refreshTimes, Coefficient: -0.010326744098950263\n",
      "Feature: u_feedLifeCycle, Coefficient: -0.007572678077838075\n",
      "Feature: user_id_count, Coefficient: 0.0001717120146832822\n",
      "Feature: age_count, Coefficient: -7.303228317116437e-09\n",
      "Feature: gender_count, Coefficient: -4.620593135870822e-09\n",
      "Feature: residence_count, Coefficient: 1.8227654093581045e-08\n",
      "Feature: city_count, Coefficient: -5.433504825528842e-08\n",
      "Feature: series_dev_count, Coefficient: 1.4487610858680021e-08\n",
      "Feature: series_group_count, Coefficient: -4.9421031977866705e-08\n",
      "Feature: emui_dev_count, Coefficient: 4.515077514914905e-08\n",
      "Feature: device_name_count, Coefficient: -2.9647452546580614e-07\n",
      "Feature: net_type_count, Coefficient: 9.490507188896016e-09\n",
      "Feature: task_id_count, Coefficient: 3.5451682765005724e-06\n",
      "Feature: adv_id_count, Coefficient: -3.996048066290506e-06\n",
      "Feature: creat_type_cd_count, Coefficient: 5.9004334775627425e-08\n",
      "Feature: adv_prim_id_count, Coefficient: 1.6949588112275833e-07\n",
      "Feature: inter_type_cd_count, Coefficient: 8.126179147812714e-09\n",
      "Feature: slot_id_count, Coefficient: -3.445392588827585e-07\n",
      "Feature: spread_app_id_count, Coefficient: -8.238787277934127e-08\n",
      "Feature: hispace_app_tags_count, Coefficient: -1.741745109556098e-08\n",
      "Feature: app_second_class_count, Coefficient: 3.076389786116798e-08\n",
      "Feature: user_id_task_id_nunique, Coefficient: -0.0020137769417271413\n",
      "Feature: user_id_adv_prim_id_nunique, Coefficient: 3.607824817760066e-05\n",
      "Feature: user_id_slot_id_nunique, Coefficient: -0.013567406999727576\n",
      "Feature: user_id_spread_app_id_nunique, Coefficient: -0.0069190094352800605\n",
      "Feature: age_task_id_nunique, Coefficient: -0.00013506907262170106\n",
      "Feature: age_adv_id_nunique, Coefficient: 0.00011500238405028377\n",
      "Feature: gender_task_id_nunique, Coefficient: 5.155187636167492e-06\n",
      "Feature: gender_adv_id_nunique, Coefficient: 6.270324263411561e-07\n",
      "\n",
      "Features with coefficients > 1e-6:\n",
      "['city', 'series_dev', 'emui_dev', 'device_name', 'device_size', 'net_type', 'creat_type_cd', 'slot_id', 'spread_app_id', 'app_second_class', 'u_refreshTimes', 'u_feedLifeCycle', 'user_id_count', 'task_id_count', 'adv_id_count', 'user_id_task_id_nunique', 'user_id_adv_prim_id_nunique', 'user_id_slot_id_nunique', 'user_id_spread_app_id_nunique', 'age_task_id_nunique', 'age_adv_id_nunique', 'gender_task_id_nunique']\n",
      "22\n"
     ]
    }
   ],
   "source": [
    "import numpy as np\n",
    "\n",
    "feature_names = X_train.columns\n",
    "\n",
    "# Non-zero coefficients\n",
    "non_zero_indices = np.where(lasso.coef_ != 0)[0]\n",
    "important_features = [(feature_names[i], lasso.coef_[i]) for i in non_zero_indices]\n",
    "\n",
    "# Print non-zero coefficients\n",
    "print(\"Important Features and their Coefficients:\")\n",
    "for feature, coef in important_features:\n",
    "    print(f\"Feature: {feature}, Coefficient: {coef}\")\n",
    "\n",
    "# Features with coefficients > 1e-6\n",
    "threshold = 1e-6\n",
    "filtered_features = [feature_names[i] for i in non_zero_indices if abs(lasso.coef_[i]) > threshold]\n",
    "\n",
    "print(\"\\nFeatures with coefficients > 1e-6:\")\n",
    "print(filtered_features)\n",
    "print(len(filtered_features))"
   ]
  },
  {
   "cell_type": "code",
   "execution_count": 27,
   "metadata": {},
   "outputs": [
    {
     "data": {
      "image/png": "[encoded data removed]",
      "text/plain": [
       "<Figure size 800x500 with 1 Axes>"
      ]
     },
     "metadata": {},
     "output_type": "display_data"
    }
   ],
   "source": [
    "import matplotlib.pyplot as plt\n",
    "\n",
    "top_n = 10 \n",
    "\n",
    "features, coefficients = zip(*important_features)\n",
    "\n",
    "sorted_indices = np.argsort(np.abs(coefficients))[::-1]\n",
    "sorted_features = [features[i] for i in sorted_indices]\n",
    "sorted_coefficients = [coefficients[i] for i in sorted_indices]\n",
    "\n",
    "top_features = sorted_features[:top_n]\n",
    "top_coefficients = sorted_coefficients[:top_n]\n",
    "\n",
    "plt.figure(figsize=(8, 5))\n",
    "plt.barh(top_features, top_coefficients, align='center')\n",
    "plt.xlabel(\"Coefficient Value\")\n",
    "plt.ylabel(\"Feature\")\n",
    "plt.title(f\"Top {top_n} Important Features\")\n",
    "plt.gca().invert_yaxis()  # Invert y-axis to have the highest coefficient on top\n",
    "plt.grid(axis='x', linestyle='--', alpha=0.6)\n",
    "plt.tight_layout()\n",
    "plt.show()\n"
   ]
  },
  {
   "cell_type": "code",
   "execution_count": 11,
   "metadata": {},
   "outputs": [
    {
     "name": "stdout",
     "output_type": "stream",
     "text": [
      "Important Features and their Coefficients:\n",
      "Feature: log_id, Coefficient: -1.2325431936886553e-09\n",
      "Feature: user_id, Coefficient: 1.4510114821132684e-08\n",
      "Feature: city, Coefficient: 2.4689391063937872e-05\n",
      "Feature: series_dev, Coefficient: 0.0006477151275460204\n",
      "Feature: emui_dev, Coefficient: 8.797044509093144e-05\n",
      "Feature: device_name, Coefficient: 2.6403807767637695e-05\n",
      "Feature: device_size, Coefficient: -1.9381222275957886e-05\n",
      "Feature: net_type, Coefficient: 0.004241606611311779\n",
      "Feature: task_id, Coefficient: -2.4515994552600414e-07\n",
      "Feature: adv_id, Coefficient: 8.079606137143922e-07\n",
      "Feature: creat_type_cd, Coefficient: -0.027528974402925774\n",
      "Feature: adv_prim_id, Coefficient: 1.4373040587943518e-07\n",
      "Feature: slot_id, Coefficient: -0.0005029128437436971\n",
      "Feature: spread_app_id, Coefficient: -8.699970860354822e-05\n",
      "Feature: app_second_class, Coefficient: 0.0012130709714165203\n",
      "Feature: pt_d, Coefficient: -8.59543907918367e-08\n",
      "Feature: u_refreshTimes, Coefficient: -0.010326744098950263\n",
      "Feature: u_feedLifeCycle, Coefficient: -0.007572678077838075\n",
      "Feature: user_id_count, Coefficient: 0.0001717120146832822\n",
      "Feature: age_count, Coefficient: -7.303228317116437e-09\n",
      "Feature: gender_count, Coefficient: -4.620593135870822e-09\n",
      "Feature: residence_count, Coefficient: 1.8227654093581045e-08\n",
      "Feature: city_count, Coefficient: -5.433504825528842e-08\n",
      "Feature: series_dev_count, Coefficient: 1.4487610858680021e-08\n",
      "Feature: series_group_count, Coefficient: -4.9421031977866705e-08\n",
      "Feature: emui_dev_count, Coefficient: 4.515077514914905e-08\n",
      "Feature: device_name_count, Coefficient: -2.9647452546580614e-07\n",
      "Feature: net_type_count, Coefficient: 9.490507188896016e-09\n",
      "Feature: task_id_count, Coefficient: 3.5451682765005724e-06\n",
      "Feature: adv_id_count, Coefficient: -3.996048066290506e-06\n",
      "Feature: creat_type_cd_count, Coefficient: 5.9004334775627425e-08\n",
      "Feature: adv_prim_id_count, Coefficient: 1.6949588112275833e-07\n",
      "Feature: inter_type_cd_count, Coefficient: 8.126179147812714e-09\n",
      "Feature: slot_id_count, Coefficient: -3.445392588827585e-07\n",
      "Feature: spread_app_id_count, Coefficient: -8.238787277934127e-08\n",
      "Feature: hispace_app_tags_count, Coefficient: -1.741745109556098e-08\n",
      "Feature: app_second_class_count, Coefficient: 3.076389786116798e-08\n",
      "Feature: user_id_task_id_nunique, Coefficient: -0.0020137769417271413\n",
      "Feature: user_id_adv_prim_id_nunique, Coefficient: 3.607824817760066e-05\n",
      "Feature: user_id_slot_id_nunique, Coefficient: -0.013567406999727576\n",
      "Feature: user_id_spread_app_id_nunique, Coefficient: -0.0069190094352800605\n",
      "Feature: age_task_id_nunique, Coefficient: -0.00013506907262170106\n",
      "Feature: age_adv_id_nunique, Coefficient: 0.00011500238405028377\n",
      "Feature: gender_task_id_nunique, Coefficient: 5.155187636167492e-06\n",
      "Feature: gender_adv_id_nunique, Coefficient: 6.270324263411561e-07\n",
      "\n",
      "Features with coefficients > 1e-6:\n",
      "['city', 'series_dev', 'emui_dev', 'device_name', 'device_size', 'net_type', 'creat_type_cd', 'slot_id', 'spread_app_id', 'app_second_class', 'u_refreshTimes', 'u_feedLifeCycle', 'user_id_count', 'task_id_count', 'adv_id_count', 'user_id_task_id_nunique', 'user_id_adv_prim_id_nunique', 'user_id_slot_id_nunique', 'user_id_spread_app_id_nunique', 'age_task_id_nunique', 'age_adv_id_nunique', 'gender_task_id_nunique']\n",
      "22\n"
     ]
    }
   ],
   "source": [
    "import numpy as np\n",
    "\n",
    "feature_names = X_train.columns\n",
    "\n",
    "# Non-zero coefficients\n",
    "non_zero_indices = np.where(lasso.coef_ != 0)[0]\n",
    "important_features = [(feature_names[i], lasso.coef_[i]) for i in non_zero_indices]\n",
    "\n",
    "# Print non-zero coefficients\n",
    "print(\"Important Features and their Coefficients:\")\n",
    "for feature, coef in important_features:\n",
    "    print(f\"Feature: {feature}, Coefficient: {coef}\")\n",
    "\n",
    "# Features with coefficients > 1e-6\n",
    "threshold = 1e-6\n",
    "filtered_features = [feature_names[i] for i in non_zero_indices if abs(lasso.coef_[i]) > threshold]\n",
    "\n",
    "print(\"\\nFeatures with coefficients > 1e-6:\")\n",
    "print(filtered_features)\n",
    "print(len(filtered_features))"
   ]
  },
  {
   "cell_type": "code",
   "execution_count": 12,
   "metadata": {},
   "outputs": [
    {
     "name": "stdout",
     "output_type": "stream",
     "text": [
      "Filtered train dataset shape: (3813974, 23)\n",
      "Filtered test dataset shape: (23784, 23)\n"
     ]
    }
   ],
   "source": [
    "train_filtered_df = train_data[filtered_features + ['label']]\n",
    "test_filtered_df = test_data[filtered_features + ['label']]\n",
    "print(f\"Filtered train dataset shape: {train_filtered_df.shape}\")\n",
    "print(f\"Filtered test dataset shape: {test_filtered_df.shape}\")"
   ]
  },
  {
   "cell_type": "code",
   "execution_count": 14,
   "metadata": {},
   "outputs": [],
   "source": [
    "train_filtered_df.to_csv(\"train_data_after_feature_selection.csv\", index=False) # Specify where to save the train df\n",
    "test_filtered_df.to_csv(\"test_data_after_feature_selection.csv\", index=False) # Specify where to save the test df"
   ]
  },
  {
   "cell_type": "code",
   "execution_count": null,
   "metadata": {},
   "outputs": [],
   "source": []
  }
 ],
 "metadata": {
  "kernelspec": {
   "display_name": "base",
   "language": "python",
   "name": "python3"
  },
  "language_info": {
   "codemirror_mode": {
    "name": "ipython",
    "version": 3
   },
   "file_extension": ".py",
   "mimetype": "text/x-python",
   "name": "python",
   "nbconvert_exporter": "python",
   "pygments_lexer": "ipython3",
   "version": "3.10.11"
  }
 },
 "nbformat": 4,
 "nbformat_minor": 2
}
