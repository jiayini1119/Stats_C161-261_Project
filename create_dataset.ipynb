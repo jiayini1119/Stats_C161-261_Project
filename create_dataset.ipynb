{
 "cells": [
  {
   "cell_type": "markdown",
   "metadata": {},
   "source": [
    "### Load the dataset"
   ]
  },
  {
   "cell_type": "code",
   "execution_count": null,
   "metadata": {},
   "outputs": [],
   "source": [
    "from load_dataset import load_dataset\n",
    "df = load_dataset(file_path=) # Enter the file path here\n",
    "label_counts = df[\"label\"].value_counts()\n",
    "print(label_counts)\n",
    "print(df.shape)"
   ]
  },
  {
   "cell_type": "markdown",
   "metadata": {},
   "source": [
    "### Split the dataset"
   ]
  },
  {
   "cell_type": "code",
   "execution_count": null,
   "metadata": {},
   "outputs": [],
   "source": [
    "import pandas as pd\n",
    "\n",
    "# Separate the data based on the label\n",
    "df_label_1 = df[df[\"label\"] == 1]\n",
    "df_label_0 = df[df[\"label\"] == 0]\n",
    "\n",
    "# Sample 20% of each label class for the test set\n",
    "df_label_1_test = df_label_1.sample(frac=0.2, random_state=123)\n",
    "df_label_0_test = df_label_0.sample(n=len(df_label_1_test), random_state=123)  # Match the size of label=1\n",
    "\n",
    "# Combine the test data\n",
    "test_data = pd.concat([df_label_1_test, df_label_0_test])\n",
    "\n",
    "# The rest goes to the training set\n",
    "df_label_1_train = df_label_1.drop(df_label_1_test.index)\n",
    "df_label_0_train = df_label_0.drop(df_label_0_test.index)\n",
    "\n",
    "# Combine the training data\n",
    "train_data = pd.concat([df_label_1_train, df_label_0_train])\n",
    "\n",
    "# Separate features and labels for train and test sets\n",
    "X_train = train_data.drop(columns=[\"label\"])\n",
    "y_train = train_data[\"label\"]\n",
    "\n",
    "X_test = test_data.drop(columns=[\"label\"])\n",
    "y_test = test_data[\"label\"]\n",
    "# # Save the train and test datasets\n",
    "# train_data.to_csv(\"train.csv\", index=False)\n",
    "# test_data.to_csv(\"test.csv\", index=False)"
   ]
  },
  {
   "cell_type": "markdown",
   "metadata": {},
   "source": [
    "### Do Feature Selection on the Balanced Train Dataset"
   ]
  },
  {
   "cell_type": "code",
   "execution_count": null,
   "metadata": {},
   "outputs": [],
   "source": [
    "from load_dataset import balanced_dataset_downsampling\n",
    "balanced_train_data_downsampling =  balanced_dataset_downsampling(train_data)"
   ]
  },
  {
   "cell_type": "code",
   "execution_count": null,
   "metadata": {},
   "outputs": [],
   "source": [
    "from sklearn.linear_model import Lasso\n",
    "from sklearn.metrics import mean_squared_error\n",
    "\n",
    "X_train = balanced_train_data_downsampling.drop(columns=[\"label\"])\n",
    "y_train = balanced_train_data_downsampling[\"label\"]\n",
    "\n",
    "lasso = Lasso(alpha=0.01)\n",
    "lasso.fit(X_train, y_train)\n",
    "\n",
    "# Make predictions and calculate performance\n",
    "y_pred = lasso.predict(X_test)\n",
    "print(\"Lasso Regression Mean Squared Error:\", mean_squared_error(y_test, y_pred))\n",
    "\n",
    "# Lasso coefficients (note that some may be zero)\n",
    "print(\"Lasso Coefficients:\", lasso.coef_)"
   ]
  },
  {
   "cell_type": "code",
   "execution_count": null,
   "metadata": {},
   "outputs": [],
   "source": [
    "import numpy as np\n",
    "\n",
    "feature_names = X_train.columns\n",
    "\n",
    "# Non-zero coefficients\n",
    "non_zero_indices = np.where(lasso.coef_ != 0)[0]\n",
    "important_features = [(feature_names[i], lasso.coef_[i]) for i in non_zero_indices]\n",
    "\n",
    "# Print non-zero coefficients\n",
    "print(\"Important Features and their Coefficients:\")\n",
    "for feature, coef in important_features:\n",
    "    print(f\"Feature: {feature}, Coefficient: {coef}\")\n",
    "\n",
    "# Features with coefficients > 1e-8\n",
    "threshold = 1e-8\n",
    "filtered_features = [feature_names[i] for i in non_zero_indices if abs(lasso.coef_[i]) > threshold]\n",
    "\n",
    "print(\"\\nFeatures with coefficients > 1e-8:\")\n",
    "print(filtered_features)"
   ]
  },
  {
   "cell_type": "code",
   "execution_count": null,
   "metadata": {},
   "outputs": [],
   "source": [
    "train_filtered_df = train_data[filtered_features + ['label']]\n",
    "test_filtered_df = test_data[filtered_features + ['label']]\n",
    "print(f\"Filtered train dataset shape: {train_filtered_df.shape}\")\n",
    "print(f\"Filtered test dataset shape: {test_filtered_df.shape}\")"
   ]
  },
  {
   "cell_type": "code",
   "execution_count": null,
   "metadata": {},
   "outputs": [],
   "source": [
    "train_filtered_df.to_csv(\"\", index=False) # Specify where to save the train df\n",
    "test_filtered_df.to_csv(\"\", index=False) # Specify where to save the test df"
   ]
  }
 ],
 "metadata": {
  "language_info": {
   "name": "python"
  }
 },
 "nbformat": 4,
 "nbformat_minor": 2
}
